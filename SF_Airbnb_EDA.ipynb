{
 "cells": [
  {
   "cell_type": "code",
   "execution_count": 1,
   "metadata": {},
   "outputs": [],
   "source": [
    "# Import our dependencies\n",
    "import numpy as np\n",
    "import pandas as pd\n",
    "import matplotlib.pyplot as plt\n",
    "import seaborn as sns\n",
    "import mpl_toolkits\n",
    "%matplotlib inline"
   ]
  },
  {
   "cell_type": "code",
   "execution_count": 2,
   "metadata": {},
   "outputs": [
    {
     "data": {
      "text/html": [
       "<div>\n",
       "<style scoped>\n",
       "    .dataframe tbody tr th:only-of-type {\n",
       "        vertical-align: middle;\n",
       "    }\n",
       "\n",
       "    .dataframe tbody tr th {\n",
       "        vertical-align: top;\n",
       "    }\n",
       "\n",
       "    .dataframe thead th {\n",
       "        text-align: right;\n",
       "    }\n",
       "</style>\n",
       "<table border=\"1\" class=\"dataframe\">\n",
       "  <thead>\n",
       "    <tr style=\"text-align: right;\">\n",
       "      <th></th>\n",
       "      <th>id</th>\n",
       "      <th>listing_url</th>\n",
       "      <th>scrape_id</th>\n",
       "      <th>last_scraped</th>\n",
       "      <th>name</th>\n",
       "      <th>summary</th>\n",
       "      <th>space</th>\n",
       "      <th>description</th>\n",
       "      <th>experiences_offered</th>\n",
       "      <th>neighborhood_overview</th>\n",
       "      <th>...</th>\n",
       "      <th>instant_bookable</th>\n",
       "      <th>is_business_travel_ready</th>\n",
       "      <th>cancellation_policy</th>\n",
       "      <th>require_guest_profile_picture</th>\n",
       "      <th>require_guest_phone_verification</th>\n",
       "      <th>calculated_host_listings_count</th>\n",
       "      <th>calculated_host_listings_count_entire_homes</th>\n",
       "      <th>calculated_host_listings_count_private_rooms</th>\n",
       "      <th>calculated_host_listings_count_shared_rooms</th>\n",
       "      <th>reviews_per_month</th>\n",
       "    </tr>\n",
       "  </thead>\n",
       "  <tbody>\n",
       "    <tr>\n",
       "      <th>0</th>\n",
       "      <td>958</td>\n",
       "      <td>https://www.airbnb.com/rooms/958</td>\n",
       "      <td>2.020000e+13</td>\n",
       "      <td>10/14/2019</td>\n",
       "      <td>Bright, Modern Garden Unit - 1BR/1B</td>\n",
       "      <td>New update: the house next door is under const...</td>\n",
       "      <td>Newly remodeled, modern, and bright garden uni...</td>\n",
       "      <td>New update: the house next door is under const...</td>\n",
       "      <td>none</td>\n",
       "      <td>*Quiet cul de sac in friendly neighborhood *St...</td>\n",
       "      <td>...</td>\n",
       "      <td>f</td>\n",
       "      <td>f</td>\n",
       "      <td>moderate</td>\n",
       "      <td>f</td>\n",
       "      <td>f</td>\n",
       "      <td>1</td>\n",
       "      <td>1</td>\n",
       "      <td>0</td>\n",
       "      <td>0</td>\n",
       "      <td>1.74</td>\n",
       "    </tr>\n",
       "    <tr>\n",
       "      <th>1</th>\n",
       "      <td>3850</td>\n",
       "      <td>https://www.airbnb.com/rooms/3850</td>\n",
       "      <td>2.020000e+13</td>\n",
       "      <td>10/14/2019</td>\n",
       "      <td>Charming room for two</td>\n",
       "      <td>Your own private room plus access to a shared ...</td>\n",
       "      <td>This room can fit two people. Nobody else will...</td>\n",
       "      <td>Your own private room plus access to a shared ...</td>\n",
       "      <td>none</td>\n",
       "      <td>This is a quiet, safe neighborhood on a substa...</td>\n",
       "      <td>...</td>\n",
       "      <td>f</td>\n",
       "      <td>f</td>\n",
       "      <td>strict_14_with_grace_period</td>\n",
       "      <td>f</td>\n",
       "      <td>f</td>\n",
       "      <td>3</td>\n",
       "      <td>0</td>\n",
       "      <td>3</td>\n",
       "      <td>0</td>\n",
       "      <td>1.28</td>\n",
       "    </tr>\n",
       "    <tr>\n",
       "      <th>2</th>\n",
       "      <td>5858</td>\n",
       "      <td>https://www.airbnb.com/rooms/5858</td>\n",
       "      <td>2.020000e+13</td>\n",
       "      <td>10/14/2019</td>\n",
       "      <td>Creative Sanctuary</td>\n",
       "      <td>NaN</td>\n",
       "      <td>We live in a large Victorian house on a quiet ...</td>\n",
       "      <td>We live in a large Victorian house on a quiet ...</td>\n",
       "      <td>none</td>\n",
       "      <td>I love how our neighborhood feels quiet but is...</td>\n",
       "      <td>...</td>\n",
       "      <td>f</td>\n",
       "      <td>f</td>\n",
       "      <td>strict_14_with_grace_period</td>\n",
       "      <td>f</td>\n",
       "      <td>f</td>\n",
       "      <td>1</td>\n",
       "      <td>1</td>\n",
       "      <td>0</td>\n",
       "      <td>0</td>\n",
       "      <td>0.87</td>\n",
       "    </tr>\n",
       "    <tr>\n",
       "      <th>3</th>\n",
       "      <td>7918</td>\n",
       "      <td>https://www.airbnb.com/rooms/7918</td>\n",
       "      <td>2.020000e+13</td>\n",
       "      <td>10/14/2019</td>\n",
       "      <td>A Friendly Room - UCSF/USF - San Francisco</td>\n",
       "      <td>Nice and good public transportation.  7 minute...</td>\n",
       "      <td>Settle down, S.F. resident, student, hospital,...</td>\n",
       "      <td>Nice and good public transportation.  7 minute...</td>\n",
       "      <td>none</td>\n",
       "      <td>Shopping old town, restaurants, McDonald, Whol...</td>\n",
       "      <td>...</td>\n",
       "      <td>f</td>\n",
       "      <td>f</td>\n",
       "      <td>strict_14_with_grace_period</td>\n",
       "      <td>f</td>\n",
       "      <td>f</td>\n",
       "      <td>9</td>\n",
       "      <td>0</td>\n",
       "      <td>9</td>\n",
       "      <td>0</td>\n",
       "      <td>0.15</td>\n",
       "    </tr>\n",
       "    <tr>\n",
       "      <th>4</th>\n",
       "      <td>8142</td>\n",
       "      <td>https://www.airbnb.com/rooms/8142</td>\n",
       "      <td>2.020000e+13</td>\n",
       "      <td>10/14/2019</td>\n",
       "      <td>Friendly Room Apt. Style -UCSF/USF - San Franc...</td>\n",
       "      <td>Nice and good public transportation.  7 minute...</td>\n",
       "      <td>Settle down, S.F. resident, student, hospital,...</td>\n",
       "      <td>Nice and good public transportation.  7 minute...</td>\n",
       "      <td>none</td>\n",
       "      <td>NaN</td>\n",
       "      <td>...</td>\n",
       "      <td>f</td>\n",
       "      <td>f</td>\n",
       "      <td>strict_14_with_grace_period</td>\n",
       "      <td>f</td>\n",
       "      <td>f</td>\n",
       "      <td>9</td>\n",
       "      <td>0</td>\n",
       "      <td>9</td>\n",
       "      <td>0</td>\n",
       "      <td>0.13</td>\n",
       "    </tr>\n",
       "  </tbody>\n",
       "</table>\n",
       "<p>5 rows × 106 columns</p>\n",
       "</div>"
      ],
      "text/plain": [
       "     id                        listing_url     scrape_id last_scraped  \\\n",
       "0   958   https://www.airbnb.com/rooms/958  2.020000e+13   10/14/2019   \n",
       "1  3850  https://www.airbnb.com/rooms/3850  2.020000e+13   10/14/2019   \n",
       "2  5858  https://www.airbnb.com/rooms/5858  2.020000e+13   10/14/2019   \n",
       "3  7918  https://www.airbnb.com/rooms/7918  2.020000e+13   10/14/2019   \n",
       "4  8142  https://www.airbnb.com/rooms/8142  2.020000e+13   10/14/2019   \n",
       "\n",
       "                                                name  \\\n",
       "0                Bright, Modern Garden Unit - 1BR/1B   \n",
       "1                              Charming room for two   \n",
       "2                                 Creative Sanctuary   \n",
       "3         A Friendly Room - UCSF/USF - San Francisco   \n",
       "4  Friendly Room Apt. Style -UCSF/USF - San Franc...   \n",
       "\n",
       "                                             summary  \\\n",
       "0  New update: the house next door is under const...   \n",
       "1  Your own private room plus access to a shared ...   \n",
       "2                                                NaN   \n",
       "3  Nice and good public transportation.  7 minute...   \n",
       "4  Nice and good public transportation.  7 minute...   \n",
       "\n",
       "                                               space  \\\n",
       "0  Newly remodeled, modern, and bright garden uni...   \n",
       "1  This room can fit two people. Nobody else will...   \n",
       "2  We live in a large Victorian house on a quiet ...   \n",
       "3  Settle down, S.F. resident, student, hospital,...   \n",
       "4  Settle down, S.F. resident, student, hospital,...   \n",
       "\n",
       "                                         description experiences_offered  \\\n",
       "0  New update: the house next door is under const...                none   \n",
       "1  Your own private room plus access to a shared ...                none   \n",
       "2  We live in a large Victorian house on a quiet ...                none   \n",
       "3  Nice and good public transportation.  7 minute...                none   \n",
       "4  Nice and good public transportation.  7 minute...                none   \n",
       "\n",
       "                               neighborhood_overview  ... instant_bookable  \\\n",
       "0  *Quiet cul de sac in friendly neighborhood *St...  ...                f   \n",
       "1  This is a quiet, safe neighborhood on a substa...  ...                f   \n",
       "2  I love how our neighborhood feels quiet but is...  ...                f   \n",
       "3  Shopping old town, restaurants, McDonald, Whol...  ...                f   \n",
       "4                                                NaN  ...                f   \n",
       "\n",
       "  is_business_travel_ready          cancellation_policy  \\\n",
       "0                        f                     moderate   \n",
       "1                        f  strict_14_with_grace_period   \n",
       "2                        f  strict_14_with_grace_period   \n",
       "3                        f  strict_14_with_grace_period   \n",
       "4                        f  strict_14_with_grace_period   \n",
       "\n",
       "  require_guest_profile_picture require_guest_phone_verification  \\\n",
       "0                             f                                f   \n",
       "1                             f                                f   \n",
       "2                             f                                f   \n",
       "3                             f                                f   \n",
       "4                             f                                f   \n",
       "\n",
       "   calculated_host_listings_count  \\\n",
       "0                               1   \n",
       "1                               3   \n",
       "2                               1   \n",
       "3                               9   \n",
       "4                               9   \n",
       "\n",
       "   calculated_host_listings_count_entire_homes  \\\n",
       "0                                            1   \n",
       "1                                            0   \n",
       "2                                            1   \n",
       "3                                            0   \n",
       "4                                            0   \n",
       "\n",
       "  calculated_host_listings_count_private_rooms  \\\n",
       "0                                            0   \n",
       "1                                            3   \n",
       "2                                            0   \n",
       "3                                            9   \n",
       "4                                            9   \n",
       "\n",
       "   calculated_host_listings_count_shared_rooms  reviews_per_month  \n",
       "0                                            0               1.74  \n",
       "1                                            0               1.28  \n",
       "2                                            0               0.87  \n",
       "3                                            0               0.15  \n",
       "4                                            0               0.13  \n",
       "\n",
       "[5 rows x 106 columns]"
      ]
     },
     "execution_count": 2,
     "metadata": {},
     "output_type": "execute_result"
    }
   ],
   "source": [
    "# Import our input dataset\n",
    "# Changed dataset in Segment 2 of Final Project\n",
    "airbnb_db_df = pd.read_csv(\"Resources/listings.csv\")\n",
    "airbnb_db_df.head()"
   ]
  },
  {
   "cell_type": "markdown",
   "metadata": {},
   "source": [
    "### Clean Dataset"
   ]
  },
  {
   "cell_type": "code",
   "execution_count": 3,
   "metadata": {},
   "outputs": [
    {
     "data": {
      "text/html": [
       "<div>\n",
       "<style scoped>\n",
       "    .dataframe tbody tr th:only-of-type {\n",
       "        vertical-align: middle;\n",
       "    }\n",
       "\n",
       "    .dataframe tbody tr th {\n",
       "        vertical-align: top;\n",
       "    }\n",
       "\n",
       "    .dataframe thead th {\n",
       "        text-align: right;\n",
       "    }\n",
       "</style>\n",
       "<table border=\"1\" class=\"dataframe\">\n",
       "  <thead>\n",
       "    <tr style=\"text-align: right;\">\n",
       "      <th></th>\n",
       "      <th>id</th>\n",
       "      <th>scrape_id</th>\n",
       "      <th>thumbnail_url</th>\n",
       "      <th>medium_url</th>\n",
       "      <th>xl_picture_url</th>\n",
       "      <th>host_id</th>\n",
       "      <th>host_acceptance_rate</th>\n",
       "      <th>host_listings_count</th>\n",
       "      <th>host_total_listings_count</th>\n",
       "      <th>neighbourhood_group_cleansed</th>\n",
       "      <th>...</th>\n",
       "      <th>review_scores_cleanliness</th>\n",
       "      <th>review_scores_checkin</th>\n",
       "      <th>review_scores_communication</th>\n",
       "      <th>review_scores_location</th>\n",
       "      <th>review_scores_value</th>\n",
       "      <th>calculated_host_listings_count</th>\n",
       "      <th>calculated_host_listings_count_entire_homes</th>\n",
       "      <th>calculated_host_listings_count_private_rooms</th>\n",
       "      <th>calculated_host_listings_count_shared_rooms</th>\n",
       "      <th>reviews_per_month</th>\n",
       "    </tr>\n",
       "  </thead>\n",
       "  <tbody>\n",
       "    <tr>\n",
       "      <th>count</th>\n",
       "      <td>8.111000e+03</td>\n",
       "      <td>8.111000e+03</td>\n",
       "      <td>0.0</td>\n",
       "      <td>0.0</td>\n",
       "      <td>0.0</td>\n",
       "      <td>8.111000e+03</td>\n",
       "      <td>0.0</td>\n",
       "      <td>8103.000000</td>\n",
       "      <td>8103.000000</td>\n",
       "      <td>0.0</td>\n",
       "      <td>...</td>\n",
       "      <td>6457.000000</td>\n",
       "      <td>6456.000000</td>\n",
       "      <td>6458.000000</td>\n",
       "      <td>6456.000000</td>\n",
       "      <td>6456.000000</td>\n",
       "      <td>8111.000000</td>\n",
       "      <td>8111.000000</td>\n",
       "      <td>8111.000000</td>\n",
       "      <td>8111.000000</td>\n",
       "      <td>6506.000000</td>\n",
       "    </tr>\n",
       "    <tr>\n",
       "      <th>mean</th>\n",
       "      <td>2.024561e+07</td>\n",
       "      <td>2.020000e+13</td>\n",
       "      <td>NaN</td>\n",
       "      <td>NaN</td>\n",
       "      <td>NaN</td>\n",
       "      <td>6.159690e+07</td>\n",
       "      <td>NaN</td>\n",
       "      <td>90.421079</td>\n",
       "      <td>90.421079</td>\n",
       "      <td>NaN</td>\n",
       "      <td>...</td>\n",
       "      <td>9.603686</td>\n",
       "      <td>9.847584</td>\n",
       "      <td>9.817745</td>\n",
       "      <td>9.682776</td>\n",
       "      <td>9.375155</td>\n",
       "      <td>22.329799</td>\n",
       "      <td>18.201085</td>\n",
       "      <td>2.910985</td>\n",
       "      <td>0.496979</td>\n",
       "      <td>1.873298</td>\n",
       "    </tr>\n",
       "    <tr>\n",
       "      <th>std</th>\n",
       "      <td>1.228565e+07</td>\n",
       "      <td>0.000000e+00</td>\n",
       "      <td>NaN</td>\n",
       "      <td>NaN</td>\n",
       "      <td>NaN</td>\n",
       "      <td>8.017417e+07</td>\n",
       "      <td>NaN</td>\n",
       "      <td>324.526784</td>\n",
       "      <td>324.526784</td>\n",
       "      <td>NaN</td>\n",
       "      <td>...</td>\n",
       "      <td>0.839768</td>\n",
       "      <td>0.593539</td>\n",
       "      <td>0.659274</td>\n",
       "      <td>0.715906</td>\n",
       "      <td>0.879174</td>\n",
       "      <td>54.369225</td>\n",
       "      <td>53.333669</td>\n",
       "      <td>6.807334</td>\n",
       "      <td>2.669129</td>\n",
       "      <td>2.096730</td>\n",
       "    </tr>\n",
       "    <tr>\n",
       "      <th>min</th>\n",
       "      <td>9.580000e+02</td>\n",
       "      <td>2.020000e+13</td>\n",
       "      <td>NaN</td>\n",
       "      <td>NaN</td>\n",
       "      <td>NaN</td>\n",
       "      <td>2.800000e+01</td>\n",
       "      <td>NaN</td>\n",
       "      <td>0.000000</td>\n",
       "      <td>0.000000</td>\n",
       "      <td>NaN</td>\n",
       "      <td>...</td>\n",
       "      <td>2.000000</td>\n",
       "      <td>2.000000</td>\n",
       "      <td>2.000000</td>\n",
       "      <td>2.000000</td>\n",
       "      <td>2.000000</td>\n",
       "      <td>1.000000</td>\n",
       "      <td>0.000000</td>\n",
       "      <td>0.000000</td>\n",
       "      <td>0.000000</td>\n",
       "      <td>0.010000</td>\n",
       "    </tr>\n",
       "    <tr>\n",
       "      <th>25%</th>\n",
       "      <td>8.905668e+06</td>\n",
       "      <td>2.020000e+13</td>\n",
       "      <td>NaN</td>\n",
       "      <td>NaN</td>\n",
       "      <td>NaN</td>\n",
       "      <td>4.386571e+06</td>\n",
       "      <td>NaN</td>\n",
       "      <td>1.000000</td>\n",
       "      <td>1.000000</td>\n",
       "      <td>NaN</td>\n",
       "      <td>...</td>\n",
       "      <td>9.000000</td>\n",
       "      <td>10.000000</td>\n",
       "      <td>10.000000</td>\n",
       "      <td>10.000000</td>\n",
       "      <td>9.000000</td>\n",
       "      <td>1.000000</td>\n",
       "      <td>0.000000</td>\n",
       "      <td>0.000000</td>\n",
       "      <td>0.000000</td>\n",
       "      <td>0.300000</td>\n",
       "    </tr>\n",
       "    <tr>\n",
       "      <th>50%</th>\n",
       "      <td>2.161057e+07</td>\n",
       "      <td>2.020000e+13</td>\n",
       "      <td>NaN</td>\n",
       "      <td>NaN</td>\n",
       "      <td>NaN</td>\n",
       "      <td>2.178983e+07</td>\n",
       "      <td>NaN</td>\n",
       "      <td>2.000000</td>\n",
       "      <td>2.000000</td>\n",
       "      <td>NaN</td>\n",
       "      <td>...</td>\n",
       "      <td>10.000000</td>\n",
       "      <td>10.000000</td>\n",
       "      <td>10.000000</td>\n",
       "      <td>10.000000</td>\n",
       "      <td>10.000000</td>\n",
       "      <td>2.000000</td>\n",
       "      <td>1.000000</td>\n",
       "      <td>0.000000</td>\n",
       "      <td>0.000000</td>\n",
       "      <td>1.010000</td>\n",
       "    </tr>\n",
       "    <tr>\n",
       "      <th>75%</th>\n",
       "      <td>3.120025e+07</td>\n",
       "      <td>2.020000e+13</td>\n",
       "      <td>NaN</td>\n",
       "      <td>NaN</td>\n",
       "      <td>NaN</td>\n",
       "      <td>1.000763e+08</td>\n",
       "      <td>NaN</td>\n",
       "      <td>12.000000</td>\n",
       "      <td>12.000000</td>\n",
       "      <td>NaN</td>\n",
       "      <td>...</td>\n",
       "      <td>10.000000</td>\n",
       "      <td>10.000000</td>\n",
       "      <td>10.000000</td>\n",
       "      <td>10.000000</td>\n",
       "      <td>10.000000</td>\n",
       "      <td>10.000000</td>\n",
       "      <td>2.000000</td>\n",
       "      <td>2.000000</td>\n",
       "      <td>0.000000</td>\n",
       "      <td>2.840000</td>\n",
       "    </tr>\n",
       "    <tr>\n",
       "      <th>max</th>\n",
       "      <td>3.935418e+07</td>\n",
       "      <td>2.020000e+13</td>\n",
       "      <td>NaN</td>\n",
       "      <td>NaN</td>\n",
       "      <td>NaN</td>\n",
       "      <td>3.016759e+08</td>\n",
       "      <td>NaN</td>\n",
       "      <td>1735.000000</td>\n",
       "      <td>1735.000000</td>\n",
       "      <td>NaN</td>\n",
       "      <td>...</td>\n",
       "      <td>10.000000</td>\n",
       "      <td>10.000000</td>\n",
       "      <td>10.000000</td>\n",
       "      <td>10.000000</td>\n",
       "      <td>10.000000</td>\n",
       "      <td>248.000000</td>\n",
       "      <td>248.000000</td>\n",
       "      <td>39.000000</td>\n",
       "      <td>26.000000</td>\n",
       "      <td>21.190000</td>\n",
       "    </tr>\n",
       "  </tbody>\n",
       "</table>\n",
       "<p>8 rows × 44 columns</p>\n",
       "</div>"
      ],
      "text/plain": [
       "                 id     scrape_id  thumbnail_url  medium_url  xl_picture_url  \\\n",
       "count  8.111000e+03  8.111000e+03            0.0         0.0             0.0   \n",
       "mean   2.024561e+07  2.020000e+13            NaN         NaN             NaN   \n",
       "std    1.228565e+07  0.000000e+00            NaN         NaN             NaN   \n",
       "min    9.580000e+02  2.020000e+13            NaN         NaN             NaN   \n",
       "25%    8.905668e+06  2.020000e+13            NaN         NaN             NaN   \n",
       "50%    2.161057e+07  2.020000e+13            NaN         NaN             NaN   \n",
       "75%    3.120025e+07  2.020000e+13            NaN         NaN             NaN   \n",
       "max    3.935418e+07  2.020000e+13            NaN         NaN             NaN   \n",
       "\n",
       "            host_id  host_acceptance_rate  host_listings_count  \\\n",
       "count  8.111000e+03                   0.0          8103.000000   \n",
       "mean   6.159690e+07                   NaN            90.421079   \n",
       "std    8.017417e+07                   NaN           324.526784   \n",
       "min    2.800000e+01                   NaN             0.000000   \n",
       "25%    4.386571e+06                   NaN             1.000000   \n",
       "50%    2.178983e+07                   NaN             2.000000   \n",
       "75%    1.000763e+08                   NaN            12.000000   \n",
       "max    3.016759e+08                   NaN          1735.000000   \n",
       "\n",
       "       host_total_listings_count  neighbourhood_group_cleansed  ...  \\\n",
       "count                8103.000000                           0.0  ...   \n",
       "mean                   90.421079                           NaN  ...   \n",
       "std                   324.526784                           NaN  ...   \n",
       "min                     0.000000                           NaN  ...   \n",
       "25%                     1.000000                           NaN  ...   \n",
       "50%                     2.000000                           NaN  ...   \n",
       "75%                    12.000000                           NaN  ...   \n",
       "max                  1735.000000                           NaN  ...   \n",
       "\n",
       "       review_scores_cleanliness  review_scores_checkin  \\\n",
       "count                6457.000000            6456.000000   \n",
       "mean                    9.603686               9.847584   \n",
       "std                     0.839768               0.593539   \n",
       "min                     2.000000               2.000000   \n",
       "25%                     9.000000              10.000000   \n",
       "50%                    10.000000              10.000000   \n",
       "75%                    10.000000              10.000000   \n",
       "max                    10.000000              10.000000   \n",
       "\n",
       "       review_scores_communication  review_scores_location  \\\n",
       "count                  6458.000000             6456.000000   \n",
       "mean                      9.817745                9.682776   \n",
       "std                       0.659274                0.715906   \n",
       "min                       2.000000                2.000000   \n",
       "25%                      10.000000               10.000000   \n",
       "50%                      10.000000               10.000000   \n",
       "75%                      10.000000               10.000000   \n",
       "max                      10.000000               10.000000   \n",
       "\n",
       "       review_scores_value  calculated_host_listings_count  \\\n",
       "count          6456.000000                     8111.000000   \n",
       "mean              9.375155                       22.329799   \n",
       "std               0.879174                       54.369225   \n",
       "min               2.000000                        1.000000   \n",
       "25%               9.000000                        1.000000   \n",
       "50%              10.000000                        2.000000   \n",
       "75%              10.000000                       10.000000   \n",
       "max              10.000000                      248.000000   \n",
       "\n",
       "       calculated_host_listings_count_entire_homes  \\\n",
       "count                                  8111.000000   \n",
       "mean                                     18.201085   \n",
       "std                                      53.333669   \n",
       "min                                       0.000000   \n",
       "25%                                       0.000000   \n",
       "50%                                       1.000000   \n",
       "75%                                       2.000000   \n",
       "max                                     248.000000   \n",
       "\n",
       "       calculated_host_listings_count_private_rooms  \\\n",
       "count                                   8111.000000   \n",
       "mean                                       2.910985   \n",
       "std                                        6.807334   \n",
       "min                                        0.000000   \n",
       "25%                                        0.000000   \n",
       "50%                                        0.000000   \n",
       "75%                                        2.000000   \n",
       "max                                       39.000000   \n",
       "\n",
       "       calculated_host_listings_count_shared_rooms  reviews_per_month  \n",
       "count                                  8111.000000        6506.000000  \n",
       "mean                                      0.496979           1.873298  \n",
       "std                                       2.669129           2.096730  \n",
       "min                                       0.000000           0.010000  \n",
       "25%                                       0.000000           0.300000  \n",
       "50%                                       0.000000           1.010000  \n",
       "75%                                       0.000000           2.840000  \n",
       "max                                      26.000000          21.190000  \n",
       "\n",
       "[8 rows x 44 columns]"
      ]
     },
     "execution_count": 3,
     "metadata": {},
     "output_type": "execute_result"
    }
   ],
   "source": [
    "# determine which columns don't contain data\n",
    "airbnb_db_df.describe()"
   ]
  },
  {
   "cell_type": "code",
   "execution_count": 4,
   "metadata": {},
   "outputs": [],
   "source": [
    "# clean data for database\n",
    "# drop columns that don't contain data\n",
    "airbnb_db_df = airbnb_db_df.drop([\"thumbnail_url\", \"medium_url\", \"xl_picture_url\", \"host_acceptance_rate\",\n",
    "                                 \"neighbourhood_group_cleansed\"], axis=1)"
   ]
  },
  {
   "cell_type": "code",
   "execution_count": 5,
   "metadata": {},
   "outputs": [
    {
     "data": {
      "text/html": [
       "<div>\n",
       "<style scoped>\n",
       "    .dataframe tbody tr th:only-of-type {\n",
       "        vertical-align: middle;\n",
       "    }\n",
       "\n",
       "    .dataframe tbody tr th {\n",
       "        vertical-align: top;\n",
       "    }\n",
       "\n",
       "    .dataframe thead th {\n",
       "        text-align: right;\n",
       "    }\n",
       "</style>\n",
       "<table border=\"1\" class=\"dataframe\">\n",
       "  <thead>\n",
       "    <tr style=\"text-align: right;\">\n",
       "      <th></th>\n",
       "      <th>id</th>\n",
       "      <th>listing_url</th>\n",
       "      <th>scrape_id</th>\n",
       "      <th>last_scraped</th>\n",
       "      <th>name</th>\n",
       "      <th>summary</th>\n",
       "      <th>space</th>\n",
       "      <th>description</th>\n",
       "      <th>experiences_offered</th>\n",
       "      <th>neighborhood_overview</th>\n",
       "      <th>...</th>\n",
       "      <th>instant_bookable</th>\n",
       "      <th>is_business_travel_ready</th>\n",
       "      <th>cancellation_policy</th>\n",
       "      <th>require_guest_profile_picture</th>\n",
       "      <th>require_guest_phone_verification</th>\n",
       "      <th>calculated_host_listings_count</th>\n",
       "      <th>calculated_host_listings_count_entire_homes</th>\n",
       "      <th>calculated_host_listings_count_private_rooms</th>\n",
       "      <th>calculated_host_listings_count_shared_rooms</th>\n",
       "      <th>reviews_per_month</th>\n",
       "    </tr>\n",
       "  </thead>\n",
       "  <tbody>\n",
       "    <tr>\n",
       "      <th>0</th>\n",
       "      <td>958</td>\n",
       "      <td>https://www.airbnb.com/rooms/958</td>\n",
       "      <td>2.020000e+13</td>\n",
       "      <td>10/14/2019</td>\n",
       "      <td>Bright, Modern Garden Unit - 1BR/1B</td>\n",
       "      <td>New update: the house next door is under const...</td>\n",
       "      <td>Newly remodeled, modern, and bright garden uni...</td>\n",
       "      <td>New update: the house next door is under const...</td>\n",
       "      <td>none</td>\n",
       "      <td>*Quiet cul de sac in friendly neighborhood *St...</td>\n",
       "      <td>...</td>\n",
       "      <td>f</td>\n",
       "      <td>f</td>\n",
       "      <td>moderate</td>\n",
       "      <td>f</td>\n",
       "      <td>f</td>\n",
       "      <td>1</td>\n",
       "      <td>1</td>\n",
       "      <td>0</td>\n",
       "      <td>0</td>\n",
       "      <td>1.74</td>\n",
       "    </tr>\n",
       "    <tr>\n",
       "      <th>1</th>\n",
       "      <td>3850</td>\n",
       "      <td>https://www.airbnb.com/rooms/3850</td>\n",
       "      <td>2.020000e+13</td>\n",
       "      <td>10/14/2019</td>\n",
       "      <td>Charming room for two</td>\n",
       "      <td>Your own private room plus access to a shared ...</td>\n",
       "      <td>This room can fit two people. Nobody else will...</td>\n",
       "      <td>Your own private room plus access to a shared ...</td>\n",
       "      <td>none</td>\n",
       "      <td>This is a quiet, safe neighborhood on a substa...</td>\n",
       "      <td>...</td>\n",
       "      <td>f</td>\n",
       "      <td>f</td>\n",
       "      <td>strict_14_with_grace_period</td>\n",
       "      <td>f</td>\n",
       "      <td>f</td>\n",
       "      <td>3</td>\n",
       "      <td>0</td>\n",
       "      <td>3</td>\n",
       "      <td>0</td>\n",
       "      <td>1.28</td>\n",
       "    </tr>\n",
       "    <tr>\n",
       "      <th>2</th>\n",
       "      <td>5858</td>\n",
       "      <td>https://www.airbnb.com/rooms/5858</td>\n",
       "      <td>2.020000e+13</td>\n",
       "      <td>10/14/2019</td>\n",
       "      <td>Creative Sanctuary</td>\n",
       "      <td>NaN</td>\n",
       "      <td>We live in a large Victorian house on a quiet ...</td>\n",
       "      <td>We live in a large Victorian house on a quiet ...</td>\n",
       "      <td>none</td>\n",
       "      <td>I love how our neighborhood feels quiet but is...</td>\n",
       "      <td>...</td>\n",
       "      <td>f</td>\n",
       "      <td>f</td>\n",
       "      <td>strict_14_with_grace_period</td>\n",
       "      <td>f</td>\n",
       "      <td>f</td>\n",
       "      <td>1</td>\n",
       "      <td>1</td>\n",
       "      <td>0</td>\n",
       "      <td>0</td>\n",
       "      <td>0.87</td>\n",
       "    </tr>\n",
       "    <tr>\n",
       "      <th>3</th>\n",
       "      <td>7918</td>\n",
       "      <td>https://www.airbnb.com/rooms/7918</td>\n",
       "      <td>2.020000e+13</td>\n",
       "      <td>10/14/2019</td>\n",
       "      <td>A Friendly Room - UCSF/USF - San Francisco</td>\n",
       "      <td>Nice and good public transportation.  7 minute...</td>\n",
       "      <td>Settle down, S.F. resident, student, hospital,...</td>\n",
       "      <td>Nice and good public transportation.  7 minute...</td>\n",
       "      <td>none</td>\n",
       "      <td>Shopping old town, restaurants, McDonald, Whol...</td>\n",
       "      <td>...</td>\n",
       "      <td>f</td>\n",
       "      <td>f</td>\n",
       "      <td>strict_14_with_grace_period</td>\n",
       "      <td>f</td>\n",
       "      <td>f</td>\n",
       "      <td>9</td>\n",
       "      <td>0</td>\n",
       "      <td>9</td>\n",
       "      <td>0</td>\n",
       "      <td>0.15</td>\n",
       "    </tr>\n",
       "    <tr>\n",
       "      <th>4</th>\n",
       "      <td>8142</td>\n",
       "      <td>https://www.airbnb.com/rooms/8142</td>\n",
       "      <td>2.020000e+13</td>\n",
       "      <td>10/14/2019</td>\n",
       "      <td>Friendly Room Apt. Style -UCSF/USF - San Franc...</td>\n",
       "      <td>Nice and good public transportation.  7 minute...</td>\n",
       "      <td>Settle down, S.F. resident, student, hospital,...</td>\n",
       "      <td>Nice and good public transportation.  7 minute...</td>\n",
       "      <td>none</td>\n",
       "      <td>NaN</td>\n",
       "      <td>...</td>\n",
       "      <td>f</td>\n",
       "      <td>f</td>\n",
       "      <td>strict_14_with_grace_period</td>\n",
       "      <td>f</td>\n",
       "      <td>f</td>\n",
       "      <td>9</td>\n",
       "      <td>0</td>\n",
       "      <td>9</td>\n",
       "      <td>0</td>\n",
       "      <td>0.13</td>\n",
       "    </tr>\n",
       "  </tbody>\n",
       "</table>\n",
       "<p>5 rows × 101 columns</p>\n",
       "</div>"
      ],
      "text/plain": [
       "     id                        listing_url     scrape_id last_scraped  \\\n",
       "0   958   https://www.airbnb.com/rooms/958  2.020000e+13   10/14/2019   \n",
       "1  3850  https://www.airbnb.com/rooms/3850  2.020000e+13   10/14/2019   \n",
       "2  5858  https://www.airbnb.com/rooms/5858  2.020000e+13   10/14/2019   \n",
       "3  7918  https://www.airbnb.com/rooms/7918  2.020000e+13   10/14/2019   \n",
       "4  8142  https://www.airbnb.com/rooms/8142  2.020000e+13   10/14/2019   \n",
       "\n",
       "                                                name  \\\n",
       "0                Bright, Modern Garden Unit - 1BR/1B   \n",
       "1                              Charming room for two   \n",
       "2                                 Creative Sanctuary   \n",
       "3         A Friendly Room - UCSF/USF - San Francisco   \n",
       "4  Friendly Room Apt. Style -UCSF/USF - San Franc...   \n",
       "\n",
       "                                             summary  \\\n",
       "0  New update: the house next door is under const...   \n",
       "1  Your own private room plus access to a shared ...   \n",
       "2                                                NaN   \n",
       "3  Nice and good public transportation.  7 minute...   \n",
       "4  Nice and good public transportation.  7 minute...   \n",
       "\n",
       "                                               space  \\\n",
       "0  Newly remodeled, modern, and bright garden uni...   \n",
       "1  This room can fit two people. Nobody else will...   \n",
       "2  We live in a large Victorian house on a quiet ...   \n",
       "3  Settle down, S.F. resident, student, hospital,...   \n",
       "4  Settle down, S.F. resident, student, hospital,...   \n",
       "\n",
       "                                         description experiences_offered  \\\n",
       "0  New update: the house next door is under const...                none   \n",
       "1  Your own private room plus access to a shared ...                none   \n",
       "2  We live in a large Victorian house on a quiet ...                none   \n",
       "3  Nice and good public transportation.  7 minute...                none   \n",
       "4  Nice and good public transportation.  7 minute...                none   \n",
       "\n",
       "                               neighborhood_overview  ... instant_bookable  \\\n",
       "0  *Quiet cul de sac in friendly neighborhood *St...  ...                f   \n",
       "1  This is a quiet, safe neighborhood on a substa...  ...                f   \n",
       "2  I love how our neighborhood feels quiet but is...  ...                f   \n",
       "3  Shopping old town, restaurants, McDonald, Whol...  ...                f   \n",
       "4                                                NaN  ...                f   \n",
       "\n",
       "  is_business_travel_ready          cancellation_policy  \\\n",
       "0                        f                     moderate   \n",
       "1                        f  strict_14_with_grace_period   \n",
       "2                        f  strict_14_with_grace_period   \n",
       "3                        f  strict_14_with_grace_period   \n",
       "4                        f  strict_14_with_grace_period   \n",
       "\n",
       "  require_guest_profile_picture require_guest_phone_verification  \\\n",
       "0                             f                                f   \n",
       "1                             f                                f   \n",
       "2                             f                                f   \n",
       "3                             f                                f   \n",
       "4                             f                                f   \n",
       "\n",
       "  calculated_host_listings_count  calculated_host_listings_count_entire_homes  \\\n",
       "0                              1                                            1   \n",
       "1                              3                                            0   \n",
       "2                              1                                            1   \n",
       "3                              9                                            0   \n",
       "4                              9                                            0   \n",
       "\n",
       "  calculated_host_listings_count_private_rooms  \\\n",
       "0                                            0   \n",
       "1                                            3   \n",
       "2                                            0   \n",
       "3                                            9   \n",
       "4                                            9   \n",
       "\n",
       "  calculated_host_listings_count_shared_rooms reviews_per_month  \n",
       "0                                           0              1.74  \n",
       "1                                           0              1.28  \n",
       "2                                           0              0.87  \n",
       "3                                           0              0.15  \n",
       "4                                           0              0.13  \n",
       "\n",
       "[5 rows x 101 columns]"
      ]
     },
     "execution_count": 5,
     "metadata": {},
     "output_type": "execute_result"
    }
   ],
   "source": [
    "airbnb_db_df.head()"
   ]
  },
  {
   "cell_type": "code",
   "execution_count": 6,
   "metadata": {},
   "outputs": [
    {
     "data": {
      "text/html": [
       "<div>\n",
       "<style scoped>\n",
       "    .dataframe tbody tr th:only-of-type {\n",
       "        vertical-align: middle;\n",
       "    }\n",
       "\n",
       "    .dataframe tbody tr th {\n",
       "        vertical-align: top;\n",
       "    }\n",
       "\n",
       "    .dataframe thead th {\n",
       "        text-align: right;\n",
       "    }\n",
       "</style>\n",
       "<table border=\"1\" class=\"dataframe\">\n",
       "  <thead>\n",
       "    <tr style=\"text-align: right;\">\n",
       "      <th></th>\n",
       "      <th>id</th>\n",
       "      <th>host_id</th>\n",
       "      <th>host_is_superhost</th>\n",
       "      <th>neighbourhood_cleansed</th>\n",
       "      <th>city</th>\n",
       "      <th>state</th>\n",
       "      <th>country</th>\n",
       "      <th>latitude</th>\n",
       "      <th>longitude</th>\n",
       "      <th>property_type</th>\n",
       "      <th>room_type</th>\n",
       "      <th>accommodates</th>\n",
       "      <th>bathrooms</th>\n",
       "      <th>bedrooms</th>\n",
       "      <th>price</th>\n",
       "      <th>cleaning_fee</th>\n",
       "      <th>number_of_reviews</th>\n",
       "    </tr>\n",
       "  </thead>\n",
       "  <tbody>\n",
       "    <tr>\n",
       "      <th>0</th>\n",
       "      <td>958</td>\n",
       "      <td>1169</td>\n",
       "      <td>t</td>\n",
       "      <td>Western Addition</td>\n",
       "      <td>San Francisco</td>\n",
       "      <td>CA</td>\n",
       "      <td>United States</td>\n",
       "      <td>37.76931</td>\n",
       "      <td>-122.43386</td>\n",
       "      <td>Apartment</td>\n",
       "      <td>Entire home/apt</td>\n",
       "      <td>3</td>\n",
       "      <td>1.0</td>\n",
       "      <td>1.0</td>\n",
       "      <td>$170.00</td>\n",
       "      <td>$100.00</td>\n",
       "      <td>217</td>\n",
       "    </tr>\n",
       "    <tr>\n",
       "      <th>1</th>\n",
       "      <td>3850</td>\n",
       "      <td>4921</td>\n",
       "      <td>t</td>\n",
       "      <td>Inner Sunset</td>\n",
       "      <td>San Francisco</td>\n",
       "      <td>CA</td>\n",
       "      <td>United States</td>\n",
       "      <td>37.75402</td>\n",
       "      <td>-122.45805</td>\n",
       "      <td>House</td>\n",
       "      <td>Private room</td>\n",
       "      <td>2</td>\n",
       "      <td>1.0</td>\n",
       "      <td>1.0</td>\n",
       "      <td>$99.00</td>\n",
       "      <td>$10.00</td>\n",
       "      <td>160</td>\n",
       "    </tr>\n",
       "    <tr>\n",
       "      <th>2</th>\n",
       "      <td>5858</td>\n",
       "      <td>8904</td>\n",
       "      <td>f</td>\n",
       "      <td>Bernal Heights</td>\n",
       "      <td>San Francisco</td>\n",
       "      <td>CA</td>\n",
       "      <td>United States</td>\n",
       "      <td>37.74511</td>\n",
       "      <td>-122.42102</td>\n",
       "      <td>Apartment</td>\n",
       "      <td>Entire home/apt</td>\n",
       "      <td>5</td>\n",
       "      <td>1.0</td>\n",
       "      <td>2.0</td>\n",
       "      <td>$235.00</td>\n",
       "      <td>$100.00</td>\n",
       "      <td>111</td>\n",
       "    </tr>\n",
       "    <tr>\n",
       "      <th>3</th>\n",
       "      <td>7918</td>\n",
       "      <td>21994</td>\n",
       "      <td>t</td>\n",
       "      <td>Haight Ashbury</td>\n",
       "      <td>San Francisco</td>\n",
       "      <td>CA</td>\n",
       "      <td>United States</td>\n",
       "      <td>37.76669</td>\n",
       "      <td>-122.45250</td>\n",
       "      <td>Apartment</td>\n",
       "      <td>Private room</td>\n",
       "      <td>2</td>\n",
       "      <td>4.0</td>\n",
       "      <td>1.0</td>\n",
       "      <td>$65.00</td>\n",
       "      <td>$50.00</td>\n",
       "      <td>18</td>\n",
       "    </tr>\n",
       "    <tr>\n",
       "      <th>4</th>\n",
       "      <td>8142</td>\n",
       "      <td>21994</td>\n",
       "      <td>t</td>\n",
       "      <td>Haight Ashbury</td>\n",
       "      <td>San Francisco</td>\n",
       "      <td>CA</td>\n",
       "      <td>United States</td>\n",
       "      <td>37.76487</td>\n",
       "      <td>-122.45183</td>\n",
       "      <td>Apartment</td>\n",
       "      <td>Private room</td>\n",
       "      <td>2</td>\n",
       "      <td>4.0</td>\n",
       "      <td>1.0</td>\n",
       "      <td>$65.00</td>\n",
       "      <td>$50.00</td>\n",
       "      <td>8</td>\n",
       "    </tr>\n",
       "  </tbody>\n",
       "</table>\n",
       "</div>"
      ],
      "text/plain": [
       "     id  host_id host_is_superhost neighbourhood_cleansed           city  \\\n",
       "0   958     1169                 t       Western Addition  San Francisco   \n",
       "1  3850     4921                 t           Inner Sunset  San Francisco   \n",
       "2  5858     8904                 f         Bernal Heights  San Francisco   \n",
       "3  7918    21994                 t         Haight Ashbury  San Francisco   \n",
       "4  8142    21994                 t         Haight Ashbury  San Francisco   \n",
       "\n",
       "  state        country  latitude  longitude property_type        room_type  \\\n",
       "0    CA  United States  37.76931 -122.43386     Apartment  Entire home/apt   \n",
       "1    CA  United States  37.75402 -122.45805         House     Private room   \n",
       "2    CA  United States  37.74511 -122.42102     Apartment  Entire home/apt   \n",
       "3    CA  United States  37.76669 -122.45250     Apartment     Private room   \n",
       "4    CA  United States  37.76487 -122.45183     Apartment     Private room   \n",
       "\n",
       "   accommodates  bathrooms  bedrooms     price cleaning_fee  number_of_reviews  \n",
       "0             3        1.0       1.0  $170.00      $100.00                 217  \n",
       "1             2        1.0       1.0   $99.00       $10.00                 160  \n",
       "2             5        1.0       2.0  $235.00      $100.00                 111  \n",
       "3             2        4.0       1.0   $65.00       $50.00                  18  \n",
       "4             2        4.0       1.0   $65.00       $50.00                   8  "
      ]
     },
     "execution_count": 6,
     "metadata": {},
     "output_type": "execute_result"
    }
   ],
   "source": [
    "# Drop irrelevant columns, and columns we've decided not to include in the analysis\n",
    "airbnb_db_df = airbnb_db_df.drop([\"listing_url\", \"scrape_id\", \"last_scraped\", \"name\", \"summary\",\n",
    "                                 \"space\", \"description\", \"experiences_offered\", \"neighborhood_overview\",\n",
    "                                 \"notes\", \"transit\", \"access\", \"interaction\", \"house_rules\", \"picture_url\",\n",
    "                                 \"host_url\", \"host_name\", \"host_since\", \"host_location\", \"host_about\", \n",
    "                                 \"host_response_time\", \"host_response_rate\", \"host_thumbnail_url\", \n",
    "                                 \"host_picture_url\", \"host_neighbourhood\", \"host_listings_count\", \n",
    "                                 \"host_total_listings_count\", \"host_verifications\", \"host_has_profile_pic\",\n",
    "                                 \"host_identity_verified\", \"street\", \"neighbourhood\", \"zipcode\", \"market\", \"smart_location\", \n",
    "                                 \"country_code\", \"is_location_exact\", \"beds\", \"bed_type\", \"amenities\", \"square_feet\",\n",
    "                                 \"weekly_price\", \"monthly_price\", \"security_deposit\", \"guests_included\", \"extra_people\", \n",
    "                                 \"minimum_nights\", \"maximum_nights\", \"minimum_minimum_nights\", \"maximum_minimum_nights\",\n",
    "                                 \"minimum_maximum_nights\", \"maximum_maximum_nights\", \"minimum_nights_avg_ntm\", \n",
    "                                 \"maximum_nights_avg_ntm\", \"calendar_updated\", \"has_availability\", \"availability_30\", \n",
    "                                 \"availability_60\", \"availability_90\", \"availability_365\", \"calendar_last_scraped\", \n",
    "                                 \"number_of_reviews_ltm\", \"first_review\", \"last_review\", \"review_scores_rating\", \n",
    "                                 \"review_scores_accuracy\", \"review_scores_cleanliness\", \"review_scores_checkin\", \n",
    "                                 \"review_scores_communication\", \"review_scores_location\", \"review_scores_value\", \n",
    "                                 \"requires_license\", \"license\", \"jurisdiction_names\", \"instant_bookable\", \n",
    "                                 \"is_business_travel_ready\", \"cancellation_policy\", \"require_guest_profile_picture\", \n",
    "                                 \"require_guest_phone_verification\", \"calculated_host_listings_count\", \n",
    "                                 \"calculated_host_listings_count_entire_homes\", \"calculated_host_listings_count_private_rooms\", \n",
    "                                 \"calculated_host_listings_count_shared_rooms\", \"reviews_per_month\"], axis=1)\n",
    "airbnb_db_df.head()"
   ]
  },
  {
   "cell_type": "code",
   "execution_count": 7,
   "metadata": {},
   "outputs": [
    {
     "name": "stdout",
     "output_type": "stream",
     "text": [
      "(8111, 17)\n"
     ]
    }
   ],
   "source": [
    "print(airbnb_db_df.shape)"
   ]
  },
  {
   "cell_type": "code",
   "execution_count": 8,
   "metadata": {},
   "outputs": [
    {
     "data": {
      "text/plain": [
       "id                        8111\n",
       "host_id                   4303\n",
       "host_is_superhost            2\n",
       "neighbourhood_cleansed      37\n",
       "city                         8\n",
       "state                        2\n",
       "country                      1\n",
       "latitude                  5059\n",
       "longitude                 5179\n",
       "property_type               26\n",
       "room_type                    4\n",
       "accommodates                16\n",
       "bathrooms                   17\n",
       "bedrooms                    10\n",
       "price                      526\n",
       "cleaning_fee               188\n",
       "number_of_reviews          410\n",
       "dtype: int64"
      ]
     },
     "execution_count": 8,
     "metadata": {},
     "output_type": "execute_result"
    }
   ],
   "source": [
    "# # Determine the number of unique values in each column.\n",
    "airbnb_db_df.nunique()"
   ]
  },
  {
   "cell_type": "code",
   "execution_count": 9,
   "metadata": {},
   "outputs": [
    {
     "data": {
      "text/plain": [
       "id                          0\n",
       "host_id                     0\n",
       "host_is_superhost           8\n",
       "neighbourhood_cleansed      0\n",
       "city                       10\n",
       "state                       7\n",
       "country                     0\n",
       "latitude                    0\n",
       "longitude                   0\n",
       "property_type               0\n",
       "room_type                   0\n",
       "accommodates                0\n",
       "bathrooms                  12\n",
       "bedrooms                    4\n",
       "price                       0\n",
       "cleaning_fee              924\n",
       "number_of_reviews           0\n",
       "dtype: int64"
      ]
     },
     "execution_count": 9,
     "metadata": {},
     "output_type": "execute_result"
    }
   ],
   "source": [
    "# determine if there are any missing values in the columns\n",
    "# DECIDE WHAT TO DO WITH THE NULL VALUES\n",
    "airbnb_db_df.isnull().sum()"
   ]
  },
  {
   "cell_type": "code",
   "execution_count": 10,
   "metadata": {},
   "outputs": [
    {
     "name": "stdout",
     "output_type": "stream",
     "text": [
      "(8111, 17)\n"
     ]
    }
   ],
   "source": [
    "print(airbnb_db_df.shape)"
   ]
  },
  {
   "cell_type": "code",
   "execution_count": 11,
   "metadata": {},
   "outputs": [
    {
     "data": {
      "text/plain": [
       "CA    8101\n",
       "Ca       3\n",
       "Name: state, dtype: int64"
      ]
     },
     "execution_count": 11,
     "metadata": {},
     "output_type": "execute_result"
    }
   ],
   "source": [
    "airbnb_db_df.state.value_counts()"
   ]
  },
  {
   "cell_type": "code",
   "execution_count": 12,
   "metadata": {},
   "outputs": [
    {
     "data": {
      "text/plain": [
       "CA    8104\n",
       "Name: state, dtype: int64"
      ]
     },
     "execution_count": 12,
     "metadata": {},
     "output_type": "execute_result"
    }
   ],
   "source": [
    "airbnb_db_df[\"state\"].replace({\"Ca\": \"CA\"}, inplace=True)\n",
    "airbnb_db_df.state.value_counts()"
   ]
  },
  {
   "cell_type": "code",
   "execution_count": 13,
   "metadata": {},
   "outputs": [
    {
     "name": "stdout",
     "output_type": "stream",
     "text": [
      "(8111, 17)\n"
     ]
    }
   ],
   "source": [
    "print(airbnb_db_df.shape)"
   ]
  },
  {
   "cell_type": "code",
   "execution_count": 14,
   "metadata": {},
   "outputs": [
    {
     "data": {
      "text/plain": [
       "San Francisco                  8059\n",
       "Daly City                        34\n",
       "San Francisco                     3\n",
       "San Francisco, Hayes Valley       1\n",
       "旧金山                               1\n",
       "San Jose                          1\n",
       "Noe Valley - San Francisco        1\n",
       "Brisbane                          1\n",
       "Name: city, dtype: int64"
      ]
     },
     "execution_count": 14,
     "metadata": {},
     "output_type": "execute_result"
    }
   ],
   "source": [
    "airbnb_db_df.city.value_counts()"
   ]
  },
  {
   "cell_type": "code",
   "execution_count": 15,
   "metadata": {},
   "outputs": [],
   "source": [
    "airbnb_db_df[\"city\"].replace({\"San Francisco, Hayes Valley\": \"San Francisco\", \n",
    "                              \"Noe Valley - San Francisco\": \"San Francisco\",\n",
    "                              \"San Francisco \": \"San Francisco\"}, inplace=True)"
   ]
  },
  {
   "cell_type": "code",
   "execution_count": 16,
   "metadata": {},
   "outputs": [
    {
     "data": {
      "text/plain": [
       "San Francisco    8064\n",
       "Daly City          34\n",
       "旧金山                 1\n",
       "San Jose            1\n",
       "Brisbane            1\n",
       "Name: city, dtype: int64"
      ]
     },
     "execution_count": 16,
     "metadata": {},
     "output_type": "execute_result"
    }
   ],
   "source": [
    "airbnb_db_df.city.value_counts()"
   ]
  },
  {
   "cell_type": "code",
   "execution_count": 17,
   "metadata": {},
   "outputs": [
    {
     "name": "stdout",
     "output_type": "stream",
     "text": [
      "(8111, 17)\n"
     ]
    }
   ],
   "source": [
    "#airbnb_db_df[airbnb_db_df[\"id\"] == 10500754]\n",
    "#airbnb_db_df.loc[(airbnb_db_df[\"id\"] == 10500754)].city\n",
    "print(airbnb_db_df.shape)"
   ]
  },
  {
   "cell_type": "code",
   "execution_count": 18,
   "metadata": {},
   "outputs": [
    {
     "name": "stdout",
     "output_type": "stream",
     "text": [
      "(8064, 17)\n"
     ]
    }
   ],
   "source": [
    "# drop rows with city != San Francisco (39 rows) (this includes null values of 10 rows)\n",
    "airbnb_db_df.drop(airbnb_db_df[airbnb_db_df[\"city\"] != \"San Francisco\"].index, inplace = True)\n",
    "print(airbnb_db_df.shape)"
   ]
  },
  {
   "cell_type": "code",
   "execution_count": 19,
   "metadata": {},
   "outputs": [
    {
     "data": {
      "text/plain": [
       "id                          0\n",
       "host_id                     0\n",
       "host_is_superhost           8\n",
       "neighbourhood_cleansed      0\n",
       "city                        0\n",
       "state                       6\n",
       "country                     0\n",
       "latitude                    0\n",
       "longitude                   0\n",
       "property_type               0\n",
       "room_type                   0\n",
       "accommodates                0\n",
       "bathrooms                  12\n",
       "bedrooms                    4\n",
       "price                       0\n",
       "cleaning_fee              920\n",
       "number_of_reviews           0\n",
       "dtype: int64"
      ]
     },
     "execution_count": 19,
     "metadata": {},
     "output_type": "execute_result"
    }
   ],
   "source": [
    "airbnb_db_df.isnull().sum()"
   ]
  },
  {
   "cell_type": "code",
   "execution_count": 20,
   "metadata": {},
   "outputs": [
    {
     "data": {
      "text/html": [
       "<div>\n",
       "<style scoped>\n",
       "    .dataframe tbody tr th:only-of-type {\n",
       "        vertical-align: middle;\n",
       "    }\n",
       "\n",
       "    .dataframe tbody tr th {\n",
       "        vertical-align: top;\n",
       "    }\n",
       "\n",
       "    .dataframe thead th {\n",
       "        text-align: right;\n",
       "    }\n",
       "</style>\n",
       "<table border=\"1\" class=\"dataframe\">\n",
       "  <thead>\n",
       "    <tr style=\"text-align: right;\">\n",
       "      <th></th>\n",
       "      <th>id</th>\n",
       "      <th>host_id</th>\n",
       "      <th>host_is_superhost</th>\n",
       "      <th>neighbourhood_cleansed</th>\n",
       "      <th>city</th>\n",
       "      <th>state</th>\n",
       "      <th>country</th>\n",
       "      <th>latitude</th>\n",
       "      <th>longitude</th>\n",
       "      <th>property_type</th>\n",
       "      <th>room_type</th>\n",
       "      <th>accommodates</th>\n",
       "      <th>bathrooms</th>\n",
       "      <th>bedrooms</th>\n",
       "      <th>price</th>\n",
       "      <th>cleaning_fee</th>\n",
       "      <th>number_of_reviews</th>\n",
       "    </tr>\n",
       "  </thead>\n",
       "  <tbody>\n",
       "    <tr>\n",
       "      <th>121</th>\n",
       "      <td>114401</td>\n",
       "      <td>580606</td>\n",
       "      <td>NaN</td>\n",
       "      <td>Castro/Upper Market</td>\n",
       "      <td>San Francisco</td>\n",
       "      <td>CA</td>\n",
       "      <td>United States</td>\n",
       "      <td>37.76102</td>\n",
       "      <td>-122.43005</td>\n",
       "      <td>Condominium</td>\n",
       "      <td>Private room</td>\n",
       "      <td>1</td>\n",
       "      <td>1.0</td>\n",
       "      <td>1.0</td>\n",
       "      <td>$125.00</td>\n",
       "      <td>$0.00</td>\n",
       "      <td>569</td>\n",
       "    </tr>\n",
       "    <tr>\n",
       "      <th>3466</th>\n",
       "      <td>18639196</td>\n",
       "      <td>128943312</td>\n",
       "      <td>NaN</td>\n",
       "      <td>Inner Sunset</td>\n",
       "      <td>San Francisco</td>\n",
       "      <td>CA</td>\n",
       "      <td>United States</td>\n",
       "      <td>37.75030</td>\n",
       "      <td>-122.47425</td>\n",
       "      <td>House</td>\n",
       "      <td>Private room</td>\n",
       "      <td>1</td>\n",
       "      <td>1.0</td>\n",
       "      <td>1.0</td>\n",
       "      <td>$68.00</td>\n",
       "      <td>$41.00</td>\n",
       "      <td>161</td>\n",
       "    </tr>\n",
       "    <tr>\n",
       "      <th>3489</th>\n",
       "      <td>18765944</td>\n",
       "      <td>128943312</td>\n",
       "      <td>NaN</td>\n",
       "      <td>Parkside</td>\n",
       "      <td>San Francisco</td>\n",
       "      <td>CA</td>\n",
       "      <td>United States</td>\n",
       "      <td>37.74816</td>\n",
       "      <td>-122.47393</td>\n",
       "      <td>House</td>\n",
       "      <td>Private room</td>\n",
       "      <td>1</td>\n",
       "      <td>1.0</td>\n",
       "      <td>1.0</td>\n",
       "      <td>$76.00</td>\n",
       "      <td>$41.00</td>\n",
       "      <td>155</td>\n",
       "    </tr>\n",
       "    <tr>\n",
       "      <th>3490</th>\n",
       "      <td>18767723</td>\n",
       "      <td>128943312</td>\n",
       "      <td>NaN</td>\n",
       "      <td>Parkside</td>\n",
       "      <td>San Francisco</td>\n",
       "      <td>CA</td>\n",
       "      <td>United States</td>\n",
       "      <td>37.74866</td>\n",
       "      <td>-122.47544</td>\n",
       "      <td>House</td>\n",
       "      <td>Private room</td>\n",
       "      <td>2</td>\n",
       "      <td>1.0</td>\n",
       "      <td>1.0</td>\n",
       "      <td>$85.00</td>\n",
       "      <td>$42.00</td>\n",
       "      <td>162</td>\n",
       "    </tr>\n",
       "    <tr>\n",
       "      <th>3497</th>\n",
       "      <td>18785944</td>\n",
       "      <td>128943312</td>\n",
       "      <td>NaN</td>\n",
       "      <td>Inner Sunset</td>\n",
       "      <td>San Francisco</td>\n",
       "      <td>CA</td>\n",
       "      <td>United States</td>\n",
       "      <td>37.75004</td>\n",
       "      <td>-122.47391</td>\n",
       "      <td>House</td>\n",
       "      <td>Private room</td>\n",
       "      <td>2</td>\n",
       "      <td>1.0</td>\n",
       "      <td>1.0</td>\n",
       "      <td>$95.00</td>\n",
       "      <td>$42.00</td>\n",
       "      <td>142</td>\n",
       "    </tr>\n",
       "    <tr>\n",
       "      <th>5422</th>\n",
       "      <td>28363414</td>\n",
       "      <td>151607879</td>\n",
       "      <td>NaN</td>\n",
       "      <td>Outer Mission</td>\n",
       "      <td>San Francisco</td>\n",
       "      <td>CA</td>\n",
       "      <td>United States</td>\n",
       "      <td>37.71975</td>\n",
       "      <td>-122.44273</td>\n",
       "      <td>House</td>\n",
       "      <td>Private room</td>\n",
       "      <td>2</td>\n",
       "      <td>1.0</td>\n",
       "      <td>1.0</td>\n",
       "      <td>$90.00</td>\n",
       "      <td>$36.00</td>\n",
       "      <td>48</td>\n",
       "    </tr>\n",
       "    <tr>\n",
       "      <th>7029</th>\n",
       "      <td>34867880</td>\n",
       "      <td>262874420</td>\n",
       "      <td>NaN</td>\n",
       "      <td>Outer Sunset</td>\n",
       "      <td>San Francisco</td>\n",
       "      <td>CA</td>\n",
       "      <td>United States</td>\n",
       "      <td>37.76258</td>\n",
       "      <td>-122.49234</td>\n",
       "      <td>House</td>\n",
       "      <td>Private room</td>\n",
       "      <td>4</td>\n",
       "      <td>1.0</td>\n",
       "      <td>2.0</td>\n",
       "      <td>$109.00</td>\n",
       "      <td>$50.00</td>\n",
       "      <td>22</td>\n",
       "    </tr>\n",
       "    <tr>\n",
       "      <th>7199</th>\n",
       "      <td>35580847</td>\n",
       "      <td>267698035</td>\n",
       "      <td>NaN</td>\n",
       "      <td>South of Market</td>\n",
       "      <td>San Francisco</td>\n",
       "      <td>CA</td>\n",
       "      <td>United States</td>\n",
       "      <td>37.77266</td>\n",
       "      <td>-122.40859</td>\n",
       "      <td>Apartment</td>\n",
       "      <td>Entire home/apt</td>\n",
       "      <td>6</td>\n",
       "      <td>2.0</td>\n",
       "      <td>2.0</td>\n",
       "      <td>$345.00</td>\n",
       "      <td>$100.00</td>\n",
       "      <td>8</td>\n",
       "    </tr>\n",
       "  </tbody>\n",
       "</table>\n",
       "</div>"
      ],
      "text/plain": [
       "            id    host_id host_is_superhost neighbourhood_cleansed  \\\n",
       "121     114401     580606               NaN    Castro/Upper Market   \n",
       "3466  18639196  128943312               NaN           Inner Sunset   \n",
       "3489  18765944  128943312               NaN               Parkside   \n",
       "3490  18767723  128943312               NaN               Parkside   \n",
       "3497  18785944  128943312               NaN           Inner Sunset   \n",
       "5422  28363414  151607879               NaN          Outer Mission   \n",
       "7029  34867880  262874420               NaN           Outer Sunset   \n",
       "7199  35580847  267698035               NaN        South of Market   \n",
       "\n",
       "               city state        country  latitude  longitude property_type  \\\n",
       "121   San Francisco    CA  United States  37.76102 -122.43005   Condominium   \n",
       "3466  San Francisco    CA  United States  37.75030 -122.47425         House   \n",
       "3489  San Francisco    CA  United States  37.74816 -122.47393         House   \n",
       "3490  San Francisco    CA  United States  37.74866 -122.47544         House   \n",
       "3497  San Francisco    CA  United States  37.75004 -122.47391         House   \n",
       "5422  San Francisco    CA  United States  37.71975 -122.44273         House   \n",
       "7029  San Francisco    CA  United States  37.76258 -122.49234         House   \n",
       "7199  San Francisco    CA  United States  37.77266 -122.40859     Apartment   \n",
       "\n",
       "            room_type  accommodates  bathrooms  bedrooms     price  \\\n",
       "121      Private room             1        1.0       1.0  $125.00    \n",
       "3466     Private room             1        1.0       1.0   $68.00    \n",
       "3489     Private room             1        1.0       1.0   $76.00    \n",
       "3490     Private room             2        1.0       1.0   $85.00    \n",
       "3497     Private room             2        1.0       1.0   $95.00    \n",
       "5422     Private room             2        1.0       1.0   $90.00    \n",
       "7029     Private room             4        1.0       2.0  $109.00    \n",
       "7199  Entire home/apt             6        2.0       2.0  $345.00    \n",
       "\n",
       "     cleaning_fee  number_of_reviews  \n",
       "121        $0.00                 569  \n",
       "3466      $41.00                 161  \n",
       "3489      $41.00                 155  \n",
       "3490      $42.00                 162  \n",
       "3497      $42.00                 142  \n",
       "5422      $36.00                  48  \n",
       "7029      $50.00                  22  \n",
       "7199     $100.00                   8  "
      ]
     },
     "execution_count": 20,
     "metadata": {},
     "output_type": "execute_result"
    }
   ],
   "source": [
    "airbnb_db_df.loc[(airbnb_db_df[\"host_is_superhost\"] != \"t\") & (airbnb_db_df[\"host_is_superhost\"] != \"f\")]"
   ]
  },
  {
   "cell_type": "code",
   "execution_count": 21,
   "metadata": {},
   "outputs": [
    {
     "name": "stdout",
     "output_type": "stream",
     "text": [
      "(8056, 17)\n"
     ]
    }
   ],
   "source": [
    "# drop rows with host_is_superhost as null (8 rows)\n",
    "airbnb_db_df = airbnb_db_df.dropna(subset=[\"host_is_superhost\"])\n",
    "print(airbnb_db_df.shape)"
   ]
  },
  {
   "cell_type": "code",
   "execution_count": 22,
   "metadata": {},
   "outputs": [
    {
     "data": {
      "text/plain": [
       "id                          0\n",
       "host_id                     0\n",
       "host_is_superhost           0\n",
       "neighbourhood_cleansed      0\n",
       "city                        0\n",
       "state                       6\n",
       "country                     0\n",
       "latitude                    0\n",
       "longitude                   0\n",
       "property_type               0\n",
       "room_type                   0\n",
       "accommodates                0\n",
       "bathrooms                  12\n",
       "bedrooms                    4\n",
       "price                       0\n",
       "cleaning_fee              920\n",
       "number_of_reviews           0\n",
       "dtype: int64"
      ]
     },
     "execution_count": 22,
     "metadata": {},
     "output_type": "execute_result"
    }
   ],
   "source": [
    "airbnb_db_df.isnull().sum()"
   ]
  },
  {
   "cell_type": "code",
   "execution_count": 23,
   "metadata": {},
   "outputs": [
    {
     "name": "stdout",
     "output_type": "stream",
     "text": [
      "(8050, 17)\n"
     ]
    }
   ],
   "source": [
    "# drop rows with state as null (6 rows)\n",
    "airbnb_db_df = airbnb_db_df.dropna(subset=[\"state\"])\n",
    "print(airbnb_db_df.shape)"
   ]
  },
  {
   "cell_type": "code",
   "execution_count": 24,
   "metadata": {},
   "outputs": [
    {
     "data": {
      "text/plain": [
       "id                          0\n",
       "host_id                     0\n",
       "host_is_superhost           0\n",
       "neighbourhood_cleansed      0\n",
       "city                        0\n",
       "state                       0\n",
       "country                     0\n",
       "latitude                    0\n",
       "longitude                   0\n",
       "property_type               0\n",
       "room_type                   0\n",
       "accommodates                0\n",
       "bathrooms                  12\n",
       "bedrooms                    4\n",
       "price                       0\n",
       "cleaning_fee              920\n",
       "number_of_reviews           0\n",
       "dtype: int64"
      ]
     },
     "execution_count": 24,
     "metadata": {},
     "output_type": "execute_result"
    }
   ],
   "source": [
    "airbnb_db_df.isnull().sum()"
   ]
  },
  {
   "cell_type": "code",
   "execution_count": 25,
   "metadata": {},
   "outputs": [
    {
     "data": {
      "text/plain": [
       "United States    8050\n",
       "Name: country, dtype: int64"
      ]
     },
     "execution_count": 25,
     "metadata": {},
     "output_type": "execute_result"
    }
   ],
   "source": [
    "airbnb_db_df.country.value_counts()"
   ]
  },
  {
   "cell_type": "code",
   "execution_count": 26,
   "metadata": {},
   "outputs": [
    {
     "data": {
      "text/html": [
       "<div>\n",
       "<style scoped>\n",
       "    .dataframe tbody tr th:only-of-type {\n",
       "        vertical-align: middle;\n",
       "    }\n",
       "\n",
       "    .dataframe tbody tr th {\n",
       "        vertical-align: top;\n",
       "    }\n",
       "\n",
       "    .dataframe thead th {\n",
       "        text-align: right;\n",
       "    }\n",
       "</style>\n",
       "<table border=\"1\" class=\"dataframe\">\n",
       "  <thead>\n",
       "    <tr style=\"text-align: right;\">\n",
       "      <th></th>\n",
       "      <th>id</th>\n",
       "      <th>host_id</th>\n",
       "      <th>host_is_superhost</th>\n",
       "      <th>neighbourhood_cleansed</th>\n",
       "      <th>latitude</th>\n",
       "      <th>longitude</th>\n",
       "      <th>property_type</th>\n",
       "      <th>room_type</th>\n",
       "      <th>accommodates</th>\n",
       "      <th>bathrooms</th>\n",
       "      <th>bedrooms</th>\n",
       "      <th>price</th>\n",
       "      <th>cleaning_fee</th>\n",
       "      <th>number_of_reviews</th>\n",
       "    </tr>\n",
       "  </thead>\n",
       "  <tbody>\n",
       "    <tr>\n",
       "      <th>0</th>\n",
       "      <td>958</td>\n",
       "      <td>1169</td>\n",
       "      <td>t</td>\n",
       "      <td>Western Addition</td>\n",
       "      <td>37.76931</td>\n",
       "      <td>-122.43386</td>\n",
       "      <td>Apartment</td>\n",
       "      <td>Entire home/apt</td>\n",
       "      <td>3</td>\n",
       "      <td>1.0</td>\n",
       "      <td>1.0</td>\n",
       "      <td>$170.00</td>\n",
       "      <td>$100.00</td>\n",
       "      <td>217</td>\n",
       "    </tr>\n",
       "    <tr>\n",
       "      <th>1</th>\n",
       "      <td>3850</td>\n",
       "      <td>4921</td>\n",
       "      <td>t</td>\n",
       "      <td>Inner Sunset</td>\n",
       "      <td>37.75402</td>\n",
       "      <td>-122.45805</td>\n",
       "      <td>House</td>\n",
       "      <td>Private room</td>\n",
       "      <td>2</td>\n",
       "      <td>1.0</td>\n",
       "      <td>1.0</td>\n",
       "      <td>$99.00</td>\n",
       "      <td>$10.00</td>\n",
       "      <td>160</td>\n",
       "    </tr>\n",
       "    <tr>\n",
       "      <th>2</th>\n",
       "      <td>5858</td>\n",
       "      <td>8904</td>\n",
       "      <td>f</td>\n",
       "      <td>Bernal Heights</td>\n",
       "      <td>37.74511</td>\n",
       "      <td>-122.42102</td>\n",
       "      <td>Apartment</td>\n",
       "      <td>Entire home/apt</td>\n",
       "      <td>5</td>\n",
       "      <td>1.0</td>\n",
       "      <td>2.0</td>\n",
       "      <td>$235.00</td>\n",
       "      <td>$100.00</td>\n",
       "      <td>111</td>\n",
       "    </tr>\n",
       "    <tr>\n",
       "      <th>3</th>\n",
       "      <td>7918</td>\n",
       "      <td>21994</td>\n",
       "      <td>t</td>\n",
       "      <td>Haight Ashbury</td>\n",
       "      <td>37.76669</td>\n",
       "      <td>-122.45250</td>\n",
       "      <td>Apartment</td>\n",
       "      <td>Private room</td>\n",
       "      <td>2</td>\n",
       "      <td>4.0</td>\n",
       "      <td>1.0</td>\n",
       "      <td>$65.00</td>\n",
       "      <td>$50.00</td>\n",
       "      <td>18</td>\n",
       "    </tr>\n",
       "    <tr>\n",
       "      <th>4</th>\n",
       "      <td>8142</td>\n",
       "      <td>21994</td>\n",
       "      <td>t</td>\n",
       "      <td>Haight Ashbury</td>\n",
       "      <td>37.76487</td>\n",
       "      <td>-122.45183</td>\n",
       "      <td>Apartment</td>\n",
       "      <td>Private room</td>\n",
       "      <td>2</td>\n",
       "      <td>4.0</td>\n",
       "      <td>1.0</td>\n",
       "      <td>$65.00</td>\n",
       "      <td>$50.00</td>\n",
       "      <td>8</td>\n",
       "    </tr>\n",
       "  </tbody>\n",
       "</table>\n",
       "</div>"
      ],
      "text/plain": [
       "     id  host_id host_is_superhost neighbourhood_cleansed  latitude  \\\n",
       "0   958     1169                 t       Western Addition  37.76931   \n",
       "1  3850     4921                 t           Inner Sunset  37.75402   \n",
       "2  5858     8904                 f         Bernal Heights  37.74511   \n",
       "3  7918    21994                 t         Haight Ashbury  37.76669   \n",
       "4  8142    21994                 t         Haight Ashbury  37.76487   \n",
       "\n",
       "   longitude property_type        room_type  accommodates  bathrooms  \\\n",
       "0 -122.43386     Apartment  Entire home/apt             3        1.0   \n",
       "1 -122.45805         House     Private room             2        1.0   \n",
       "2 -122.42102     Apartment  Entire home/apt             5        1.0   \n",
       "3 -122.45250     Apartment     Private room             2        4.0   \n",
       "4 -122.45183     Apartment     Private room             2        4.0   \n",
       "\n",
       "   bedrooms     price cleaning_fee  number_of_reviews  \n",
       "0       1.0  $170.00      $100.00                 217  \n",
       "1       1.0   $99.00       $10.00                 160  \n",
       "2       2.0  $235.00      $100.00                 111  \n",
       "3       1.0   $65.00       $50.00                  18  \n",
       "4       1.0   $65.00       $50.00                   8  "
      ]
     },
     "execution_count": 26,
     "metadata": {},
     "output_type": "execute_result"
    }
   ],
   "source": [
    "# drop city, state, country - all data points should already be only SF, CA USA\n",
    "airbnb_db_df = airbnb_db_df.drop([\"city\", \"state\", \"country\"], axis=1)\n",
    "airbnb_db_df.head()"
   ]
  },
  {
   "cell_type": "code",
   "execution_count": 27,
   "metadata": {},
   "outputs": [
    {
     "name": "stdout",
     "output_type": "stream",
     "text": [
      "(8050, 14)\n"
     ]
    }
   ],
   "source": [
    "print(airbnb_db_df.shape)"
   ]
  },
  {
   "cell_type": "code",
   "execution_count": 28,
   "metadata": {},
   "outputs": [
    {
     "data": {
      "text/plain": [
       "id                          0\n",
       "host_id                     0\n",
       "host_is_superhost           0\n",
       "neighbourhood_cleansed      0\n",
       "latitude                    0\n",
       "longitude                   0\n",
       "property_type               0\n",
       "room_type                   0\n",
       "accommodates                0\n",
       "bathrooms                   0\n",
       "bedrooms                    0\n",
       "price                       0\n",
       "cleaning_fee              920\n",
       "number_of_reviews           0\n",
       "dtype: int64"
      ]
     },
     "execution_count": 28,
     "metadata": {},
     "output_type": "execute_result"
    }
   ],
   "source": [
    "# bathrooms, bedrooms - replace with 0\n",
    "airbnb_db_df[\"bathrooms\"] = airbnb_db_df[\"bathrooms\"].fillna(0)\n",
    "airbnb_db_df[\"bedrooms\"] = airbnb_db_df[\"bedrooms\"].fillna(0)\n",
    "airbnb_db_df.isnull().sum()"
   ]
  },
  {
   "cell_type": "code",
   "execution_count": 29,
   "metadata": {},
   "outputs": [
    {
     "data": {
      "text/plain": [
       "id                          int64\n",
       "host_id                     int64\n",
       "host_is_superhost          object\n",
       "neighbourhood_cleansed     object\n",
       "latitude                  float64\n",
       "longitude                 float64\n",
       "property_type              object\n",
       "room_type                  object\n",
       "accommodates                int64\n",
       "bathrooms                 float64\n",
       "bedrooms                  float64\n",
       "price                      object\n",
       "cleaning_fee               object\n",
       "number_of_reviews           int64\n",
       "dtype: object"
      ]
     },
     "execution_count": 29,
     "metadata": {},
     "output_type": "execute_result"
    }
   ],
   "source": [
    "airbnb_db_df.dtypes"
   ]
  },
  {
   "cell_type": "code",
   "execution_count": 30,
   "metadata": {},
   "outputs": [
    {
     "data": {
      "text/plain": [
       "<class 'str'>    8050\n",
       "Name: price, dtype: int64"
      ]
     },
     "execution_count": 30,
     "metadata": {},
     "output_type": "execute_result"
    }
   ],
   "source": [
    "# are all the values in price column objects?\n",
    "airbnb_db_df[\"price\"].apply(type).value_counts()"
   ]
  },
  {
   "cell_type": "code",
   "execution_count": 31,
   "metadata": {
    "scrolled": true
   },
   "outputs": [],
   "source": [
    "# remove \"$\", \" \", and \",\" from price column\n",
    "#airbnb_db_df[\"price\"] = airbnb_db_df[\"price\"].str.replace(\"$\", \"\")\n",
    "#airbnb_db_df[\"price\"] = airbnb_db_df[\"price\"].str.replace(\" \", \"\")\n",
    "#airbnb_db_df[\"price\"] = airbnb_db_df[\"price\"].str.replace(\",\", \"\")\n",
    "\n",
    "# convert price to float\n",
    "#airbnb_db_df[\"price\"] = airbnb_db_df[\"price\"].astype(float, errors = \"raise\")\n",
    "\n",
    "# remove \"$\", \" \", and \",\" from price column and convert to float\n",
    "airbnb_db_df[\"price\"] = airbnb_db_df[\"price\"].replace({\"\\$\": \"\", \" \": \"\", \",\": \"\"}, regex=True).astype(float)"
   ]
  },
  {
   "cell_type": "code",
   "execution_count": 32,
   "metadata": {},
   "outputs": [
    {
     "data": {
      "text/plain": [
       "<class 'float'>    8050\n",
       "Name: price, dtype: int64"
      ]
     },
     "execution_count": 32,
     "metadata": {},
     "output_type": "execute_result"
    }
   ],
   "source": [
    "airbnb_db_df[\"price\"].apply(type).value_counts()"
   ]
  },
  {
   "cell_type": "code",
   "execution_count": 33,
   "metadata": {},
   "outputs": [
    {
     "data": {
      "text/plain": [
       "<class 'str'>      7130\n",
       "<class 'float'>     920\n",
       "Name: cleaning_fee, dtype: int64"
      ]
     },
     "execution_count": 33,
     "metadata": {},
     "output_type": "execute_result"
    }
   ],
   "source": [
    "# are all the values in cleaning_fee column objects?\n",
    "airbnb_db_df[\"cleaning_fee\"].apply(type).value_counts()"
   ]
  },
  {
   "cell_type": "code",
   "execution_count": 34,
   "metadata": {},
   "outputs": [],
   "source": [
    "# remove \"$\", \" \", and \",\" from cleaing_fee column and convert to float\n",
    "airbnb_db_df[\"cleaning_fee\"] = airbnb_db_df[\"cleaning_fee\"].replace({\"\\$\": \"\", \" \": \"\", \",\": \"\"}, regex=True).astype(float)"
   ]
  },
  {
   "cell_type": "code",
   "execution_count": 35,
   "metadata": {},
   "outputs": [
    {
     "data": {
      "text/plain": [
       "<class 'float'>    8050\n",
       "Name: cleaning_fee, dtype: int64"
      ]
     },
     "execution_count": 35,
     "metadata": {},
     "output_type": "execute_result"
    }
   ],
   "source": [
    "airbnb_db_df[\"cleaning_fee\"].apply(type).value_counts()"
   ]
  },
  {
   "cell_type": "code",
   "execution_count": 36,
   "metadata": {},
   "outputs": [
    {
     "data": {
      "text/plain": [
       "id                          int64\n",
       "host_id                     int64\n",
       "host_is_superhost          object\n",
       "neighbourhood_cleansed     object\n",
       "latitude                  float64\n",
       "longitude                 float64\n",
       "property_type              object\n",
       "room_type                  object\n",
       "accommodates                int64\n",
       "bathrooms                 float64\n",
       "bedrooms                  float64\n",
       "price                     float64\n",
       "cleaning_fee              float64\n",
       "number_of_reviews           int64\n",
       "dtype: object"
      ]
     },
     "execution_count": 36,
     "metadata": {},
     "output_type": "execute_result"
    }
   ],
   "source": [
    "airbnb_db_df.dtypes"
   ]
  },
  {
   "cell_type": "code",
   "execution_count": 37,
   "metadata": {},
   "outputs": [],
   "source": [
    "# create a total column that adds price + cleaning_fee\n",
    "airbnb_db_df[\"total\"] = airbnb_db_df.apply(lambda x: x[\"price\"] + x[\"cleaning_fee\"], axis = 1)"
   ]
  },
  {
   "cell_type": "code",
   "execution_count": 38,
   "metadata": {},
   "outputs": [
    {
     "data": {
      "text/html": [
       "<div>\n",
       "<style scoped>\n",
       "    .dataframe tbody tr th:only-of-type {\n",
       "        vertical-align: middle;\n",
       "    }\n",
       "\n",
       "    .dataframe tbody tr th {\n",
       "        vertical-align: top;\n",
       "    }\n",
       "\n",
       "    .dataframe thead th {\n",
       "        text-align: right;\n",
       "    }\n",
       "</style>\n",
       "<table border=\"1\" class=\"dataframe\">\n",
       "  <thead>\n",
       "    <tr style=\"text-align: right;\">\n",
       "      <th></th>\n",
       "      <th>id</th>\n",
       "      <th>host_id</th>\n",
       "      <th>host_is_superhost</th>\n",
       "      <th>neighbourhood_cleansed</th>\n",
       "      <th>latitude</th>\n",
       "      <th>longitude</th>\n",
       "      <th>property_type</th>\n",
       "      <th>room_type</th>\n",
       "      <th>accommodates</th>\n",
       "      <th>bathrooms</th>\n",
       "      <th>bedrooms</th>\n",
       "      <th>price</th>\n",
       "      <th>cleaning_fee</th>\n",
       "      <th>number_of_reviews</th>\n",
       "      <th>total</th>\n",
       "    </tr>\n",
       "  </thead>\n",
       "  <tbody>\n",
       "    <tr>\n",
       "      <th>0</th>\n",
       "      <td>958</td>\n",
       "      <td>1169</td>\n",
       "      <td>t</td>\n",
       "      <td>Western Addition</td>\n",
       "      <td>37.76931</td>\n",
       "      <td>-122.43386</td>\n",
       "      <td>Apartment</td>\n",
       "      <td>Entire home/apt</td>\n",
       "      <td>3</td>\n",
       "      <td>1.0</td>\n",
       "      <td>1.0</td>\n",
       "      <td>170.0</td>\n",
       "      <td>100.0</td>\n",
       "      <td>217</td>\n",
       "      <td>270.0</td>\n",
       "    </tr>\n",
       "    <tr>\n",
       "      <th>1</th>\n",
       "      <td>3850</td>\n",
       "      <td>4921</td>\n",
       "      <td>t</td>\n",
       "      <td>Inner Sunset</td>\n",
       "      <td>37.75402</td>\n",
       "      <td>-122.45805</td>\n",
       "      <td>House</td>\n",
       "      <td>Private room</td>\n",
       "      <td>2</td>\n",
       "      <td>1.0</td>\n",
       "      <td>1.0</td>\n",
       "      <td>99.0</td>\n",
       "      <td>10.0</td>\n",
       "      <td>160</td>\n",
       "      <td>109.0</td>\n",
       "    </tr>\n",
       "    <tr>\n",
       "      <th>2</th>\n",
       "      <td>5858</td>\n",
       "      <td>8904</td>\n",
       "      <td>f</td>\n",
       "      <td>Bernal Heights</td>\n",
       "      <td>37.74511</td>\n",
       "      <td>-122.42102</td>\n",
       "      <td>Apartment</td>\n",
       "      <td>Entire home/apt</td>\n",
       "      <td>5</td>\n",
       "      <td>1.0</td>\n",
       "      <td>2.0</td>\n",
       "      <td>235.0</td>\n",
       "      <td>100.0</td>\n",
       "      <td>111</td>\n",
       "      <td>335.0</td>\n",
       "    </tr>\n",
       "    <tr>\n",
       "      <th>3</th>\n",
       "      <td>7918</td>\n",
       "      <td>21994</td>\n",
       "      <td>t</td>\n",
       "      <td>Haight Ashbury</td>\n",
       "      <td>37.76669</td>\n",
       "      <td>-122.45250</td>\n",
       "      <td>Apartment</td>\n",
       "      <td>Private room</td>\n",
       "      <td>2</td>\n",
       "      <td>4.0</td>\n",
       "      <td>1.0</td>\n",
       "      <td>65.0</td>\n",
       "      <td>50.0</td>\n",
       "      <td>18</td>\n",
       "      <td>115.0</td>\n",
       "    </tr>\n",
       "    <tr>\n",
       "      <th>4</th>\n",
       "      <td>8142</td>\n",
       "      <td>21994</td>\n",
       "      <td>t</td>\n",
       "      <td>Haight Ashbury</td>\n",
       "      <td>37.76487</td>\n",
       "      <td>-122.45183</td>\n",
       "      <td>Apartment</td>\n",
       "      <td>Private room</td>\n",
       "      <td>2</td>\n",
       "      <td>4.0</td>\n",
       "      <td>1.0</td>\n",
       "      <td>65.0</td>\n",
       "      <td>50.0</td>\n",
       "      <td>8</td>\n",
       "      <td>115.0</td>\n",
       "    </tr>\n",
       "  </tbody>\n",
       "</table>\n",
       "</div>"
      ],
      "text/plain": [
       "     id  host_id host_is_superhost neighbourhood_cleansed  latitude  \\\n",
       "0   958     1169                 t       Western Addition  37.76931   \n",
       "1  3850     4921                 t           Inner Sunset  37.75402   \n",
       "2  5858     8904                 f         Bernal Heights  37.74511   \n",
       "3  7918    21994                 t         Haight Ashbury  37.76669   \n",
       "4  8142    21994                 t         Haight Ashbury  37.76487   \n",
       "\n",
       "   longitude property_type        room_type  accommodates  bathrooms  \\\n",
       "0 -122.43386     Apartment  Entire home/apt             3        1.0   \n",
       "1 -122.45805         House     Private room             2        1.0   \n",
       "2 -122.42102     Apartment  Entire home/apt             5        1.0   \n",
       "3 -122.45250     Apartment     Private room             2        4.0   \n",
       "4 -122.45183     Apartment     Private room             2        4.0   \n",
       "\n",
       "   bedrooms  price  cleaning_fee  number_of_reviews  total  \n",
       "0       1.0  170.0         100.0                217  270.0  \n",
       "1       1.0   99.0          10.0                160  109.0  \n",
       "2       2.0  235.0         100.0                111  335.0  \n",
       "3       1.0   65.0          50.0                 18  115.0  \n",
       "4       1.0   65.0          50.0                  8  115.0  "
      ]
     },
     "execution_count": 38,
     "metadata": {},
     "output_type": "execute_result"
    }
   ],
   "source": [
    "airbnb_db_df.head()"
   ]
  },
  {
   "cell_type": "code",
   "execution_count": 39,
   "metadata": {},
   "outputs": [],
   "source": [
    "# reorder columns\n",
    "airbnb_db_df = airbnb_db_df[[\"id\", \"host_id\", \"host_is_superhost\", \"property_type\", \"room_type\", \n",
    "                             \"neighbourhood_cleansed\", \"accommodates\", \"bedrooms\", \"bathrooms\", \n",
    "                             \"latitude\", \"longitude\", \"number_of_reviews\", \"price\", \"cleaning_fee\", \"total\"]]"
   ]
  },
  {
   "cell_type": "code",
   "execution_count": 40,
   "metadata": {},
   "outputs": [
    {
     "data": {
      "text/html": [
       "<div>\n",
       "<style scoped>\n",
       "    .dataframe tbody tr th:only-of-type {\n",
       "        vertical-align: middle;\n",
       "    }\n",
       "\n",
       "    .dataframe tbody tr th {\n",
       "        vertical-align: top;\n",
       "    }\n",
       "\n",
       "    .dataframe thead th {\n",
       "        text-align: right;\n",
       "    }\n",
       "</style>\n",
       "<table border=\"1\" class=\"dataframe\">\n",
       "  <thead>\n",
       "    <tr style=\"text-align: right;\">\n",
       "      <th></th>\n",
       "      <th>id</th>\n",
       "      <th>host_id</th>\n",
       "      <th>host_is_superhost</th>\n",
       "      <th>property_type</th>\n",
       "      <th>room_type</th>\n",
       "      <th>neighbourhood_cleansed</th>\n",
       "      <th>accommodates</th>\n",
       "      <th>bedrooms</th>\n",
       "      <th>bathrooms</th>\n",
       "      <th>latitude</th>\n",
       "      <th>longitude</th>\n",
       "      <th>number_of_reviews</th>\n",
       "      <th>price</th>\n",
       "      <th>cleaning_fee</th>\n",
       "      <th>total</th>\n",
       "    </tr>\n",
       "  </thead>\n",
       "  <tbody>\n",
       "    <tr>\n",
       "      <th>0</th>\n",
       "      <td>958</td>\n",
       "      <td>1169</td>\n",
       "      <td>t</td>\n",
       "      <td>Apartment</td>\n",
       "      <td>Entire home/apt</td>\n",
       "      <td>Western Addition</td>\n",
       "      <td>3</td>\n",
       "      <td>1.0</td>\n",
       "      <td>1.0</td>\n",
       "      <td>37.76931</td>\n",
       "      <td>-122.43386</td>\n",
       "      <td>217</td>\n",
       "      <td>170.0</td>\n",
       "      <td>100.0</td>\n",
       "      <td>270.0</td>\n",
       "    </tr>\n",
       "    <tr>\n",
       "      <th>1</th>\n",
       "      <td>3850</td>\n",
       "      <td>4921</td>\n",
       "      <td>t</td>\n",
       "      <td>House</td>\n",
       "      <td>Private room</td>\n",
       "      <td>Inner Sunset</td>\n",
       "      <td>2</td>\n",
       "      <td>1.0</td>\n",
       "      <td>1.0</td>\n",
       "      <td>37.75402</td>\n",
       "      <td>-122.45805</td>\n",
       "      <td>160</td>\n",
       "      <td>99.0</td>\n",
       "      <td>10.0</td>\n",
       "      <td>109.0</td>\n",
       "    </tr>\n",
       "    <tr>\n",
       "      <th>2</th>\n",
       "      <td>5858</td>\n",
       "      <td>8904</td>\n",
       "      <td>f</td>\n",
       "      <td>Apartment</td>\n",
       "      <td>Entire home/apt</td>\n",
       "      <td>Bernal Heights</td>\n",
       "      <td>5</td>\n",
       "      <td>2.0</td>\n",
       "      <td>1.0</td>\n",
       "      <td>37.74511</td>\n",
       "      <td>-122.42102</td>\n",
       "      <td>111</td>\n",
       "      <td>235.0</td>\n",
       "      <td>100.0</td>\n",
       "      <td>335.0</td>\n",
       "    </tr>\n",
       "    <tr>\n",
       "      <th>3</th>\n",
       "      <td>7918</td>\n",
       "      <td>21994</td>\n",
       "      <td>t</td>\n",
       "      <td>Apartment</td>\n",
       "      <td>Private room</td>\n",
       "      <td>Haight Ashbury</td>\n",
       "      <td>2</td>\n",
       "      <td>1.0</td>\n",
       "      <td>4.0</td>\n",
       "      <td>37.76669</td>\n",
       "      <td>-122.45250</td>\n",
       "      <td>18</td>\n",
       "      <td>65.0</td>\n",
       "      <td>50.0</td>\n",
       "      <td>115.0</td>\n",
       "    </tr>\n",
       "    <tr>\n",
       "      <th>4</th>\n",
       "      <td>8142</td>\n",
       "      <td>21994</td>\n",
       "      <td>t</td>\n",
       "      <td>Apartment</td>\n",
       "      <td>Private room</td>\n",
       "      <td>Haight Ashbury</td>\n",
       "      <td>2</td>\n",
       "      <td>1.0</td>\n",
       "      <td>4.0</td>\n",
       "      <td>37.76487</td>\n",
       "      <td>-122.45183</td>\n",
       "      <td>8</td>\n",
       "      <td>65.0</td>\n",
       "      <td>50.0</td>\n",
       "      <td>115.0</td>\n",
       "    </tr>\n",
       "  </tbody>\n",
       "</table>\n",
       "</div>"
      ],
      "text/plain": [
       "     id  host_id host_is_superhost property_type        room_type  \\\n",
       "0   958     1169                 t     Apartment  Entire home/apt   \n",
       "1  3850     4921                 t         House     Private room   \n",
       "2  5858     8904                 f     Apartment  Entire home/apt   \n",
       "3  7918    21994                 t     Apartment     Private room   \n",
       "4  8142    21994                 t     Apartment     Private room   \n",
       "\n",
       "  neighbourhood_cleansed  accommodates  bedrooms  bathrooms  latitude  \\\n",
       "0       Western Addition             3       1.0        1.0  37.76931   \n",
       "1           Inner Sunset             2       1.0        1.0  37.75402   \n",
       "2         Bernal Heights             5       2.0        1.0  37.74511   \n",
       "3         Haight Ashbury             2       1.0        4.0  37.76669   \n",
       "4         Haight Ashbury             2       1.0        4.0  37.76487   \n",
       "\n",
       "   longitude  number_of_reviews  price  cleaning_fee  total  \n",
       "0 -122.43386                217  170.0         100.0  270.0  \n",
       "1 -122.45805                160   99.0          10.0  109.0  \n",
       "2 -122.42102                111  235.0         100.0  335.0  \n",
       "3 -122.45250                 18   65.0          50.0  115.0  \n",
       "4 -122.45183                  8   65.0          50.0  115.0  "
      ]
     },
     "execution_count": 40,
     "metadata": {},
     "output_type": "execute_result"
    }
   ],
   "source": [
    "airbnb_db_df.head()"
   ]
  },
  {
   "cell_type": "code",
   "execution_count": 41,
   "metadata": {},
   "outputs": [],
   "source": [
    "# rename columns as necessary\n",
    "airbnb_db_df = airbnb_db_df.rename(columns={\"id\": \"room_id\", \"neighbourhood_cleansed\": \"neighborhood\", \"number_of_reviews\": \"reviews\"}, errors=\"raise\")"
   ]
  },
  {
   "cell_type": "code",
   "execution_count": 42,
   "metadata": {},
   "outputs": [
    {
     "data": {
      "text/plain": [
       "room_id                int64\n",
       "host_id                int64\n",
       "host_is_superhost     object\n",
       "property_type         object\n",
       "room_type             object\n",
       "neighborhood          object\n",
       "accommodates           int64\n",
       "bedrooms             float64\n",
       "bathrooms            float64\n",
       "latitude             float64\n",
       "longitude            float64\n",
       "reviews                int64\n",
       "price                float64\n",
       "cleaning_fee         float64\n",
       "total                float64\n",
       "dtype: object"
      ]
     },
     "execution_count": 42,
     "metadata": {},
     "output_type": "execute_result"
    }
   ],
   "source": [
    "airbnb_db_df.dtypes"
   ]
  },
  {
   "cell_type": "code",
   "execution_count": 43,
   "metadata": {},
   "outputs": [],
   "source": [
    "# save cleaned dataframe for database\n",
    "airbnb_db_df.to_csv(\"Resources/cleaned_airbnb_dataset2.csv\", index=False)"
   ]
  },
  {
   "cell_type": "code",
   "execution_count": 44,
   "metadata": {},
   "outputs": [],
   "source": [
    "# create copy of dataframe for EDA, making room_id the index\n",
    "airbnb_EDA_df = airbnb_db_df.copy()\n",
    "airbnb_EDA_df.set_index(\"room_id\", inplace=True)"
   ]
  },
  {
   "cell_type": "code",
   "execution_count": 45,
   "metadata": {},
   "outputs": [
    {
     "data": {
      "text/html": [
       "<div>\n",
       "<style scoped>\n",
       "    .dataframe tbody tr th:only-of-type {\n",
       "        vertical-align: middle;\n",
       "    }\n",
       "\n",
       "    .dataframe tbody tr th {\n",
       "        vertical-align: top;\n",
       "    }\n",
       "\n",
       "    .dataframe thead th {\n",
       "        text-align: right;\n",
       "    }\n",
       "</style>\n",
       "<table border=\"1\" class=\"dataframe\">\n",
       "  <thead>\n",
       "    <tr style=\"text-align: right;\">\n",
       "      <th></th>\n",
       "      <th>host_id</th>\n",
       "      <th>host_is_superhost</th>\n",
       "      <th>property_type</th>\n",
       "      <th>room_type</th>\n",
       "      <th>neighborhood</th>\n",
       "      <th>accommodates</th>\n",
       "      <th>bedrooms</th>\n",
       "      <th>bathrooms</th>\n",
       "      <th>latitude</th>\n",
       "      <th>longitude</th>\n",
       "      <th>reviews</th>\n",
       "      <th>price</th>\n",
       "      <th>cleaning_fee</th>\n",
       "      <th>total</th>\n",
       "    </tr>\n",
       "    <tr>\n",
       "      <th>room_id</th>\n",
       "      <th></th>\n",
       "      <th></th>\n",
       "      <th></th>\n",
       "      <th></th>\n",
       "      <th></th>\n",
       "      <th></th>\n",
       "      <th></th>\n",
       "      <th></th>\n",
       "      <th></th>\n",
       "      <th></th>\n",
       "      <th></th>\n",
       "      <th></th>\n",
       "      <th></th>\n",
       "      <th></th>\n",
       "    </tr>\n",
       "  </thead>\n",
       "  <tbody>\n",
       "    <tr>\n",
       "      <th>958</th>\n",
       "      <td>1169</td>\n",
       "      <td>t</td>\n",
       "      <td>Apartment</td>\n",
       "      <td>Entire home/apt</td>\n",
       "      <td>Western Addition</td>\n",
       "      <td>3</td>\n",
       "      <td>1.0</td>\n",
       "      <td>1.0</td>\n",
       "      <td>37.76931</td>\n",
       "      <td>-122.43386</td>\n",
       "      <td>217</td>\n",
       "      <td>170.0</td>\n",
       "      <td>100.0</td>\n",
       "      <td>270.0</td>\n",
       "    </tr>\n",
       "    <tr>\n",
       "      <th>3850</th>\n",
       "      <td>4921</td>\n",
       "      <td>t</td>\n",
       "      <td>House</td>\n",
       "      <td>Private room</td>\n",
       "      <td>Inner Sunset</td>\n",
       "      <td>2</td>\n",
       "      <td>1.0</td>\n",
       "      <td>1.0</td>\n",
       "      <td>37.75402</td>\n",
       "      <td>-122.45805</td>\n",
       "      <td>160</td>\n",
       "      <td>99.0</td>\n",
       "      <td>10.0</td>\n",
       "      <td>109.0</td>\n",
       "    </tr>\n",
       "    <tr>\n",
       "      <th>5858</th>\n",
       "      <td>8904</td>\n",
       "      <td>f</td>\n",
       "      <td>Apartment</td>\n",
       "      <td>Entire home/apt</td>\n",
       "      <td>Bernal Heights</td>\n",
       "      <td>5</td>\n",
       "      <td>2.0</td>\n",
       "      <td>1.0</td>\n",
       "      <td>37.74511</td>\n",
       "      <td>-122.42102</td>\n",
       "      <td>111</td>\n",
       "      <td>235.0</td>\n",
       "      <td>100.0</td>\n",
       "      <td>335.0</td>\n",
       "    </tr>\n",
       "    <tr>\n",
       "      <th>7918</th>\n",
       "      <td>21994</td>\n",
       "      <td>t</td>\n",
       "      <td>Apartment</td>\n",
       "      <td>Private room</td>\n",
       "      <td>Haight Ashbury</td>\n",
       "      <td>2</td>\n",
       "      <td>1.0</td>\n",
       "      <td>4.0</td>\n",
       "      <td>37.76669</td>\n",
       "      <td>-122.45250</td>\n",
       "      <td>18</td>\n",
       "      <td>65.0</td>\n",
       "      <td>50.0</td>\n",
       "      <td>115.0</td>\n",
       "    </tr>\n",
       "    <tr>\n",
       "      <th>8142</th>\n",
       "      <td>21994</td>\n",
       "      <td>t</td>\n",
       "      <td>Apartment</td>\n",
       "      <td>Private room</td>\n",
       "      <td>Haight Ashbury</td>\n",
       "      <td>2</td>\n",
       "      <td>1.0</td>\n",
       "      <td>4.0</td>\n",
       "      <td>37.76487</td>\n",
       "      <td>-122.45183</td>\n",
       "      <td>8</td>\n",
       "      <td>65.0</td>\n",
       "      <td>50.0</td>\n",
       "      <td>115.0</td>\n",
       "    </tr>\n",
       "  </tbody>\n",
       "</table>\n",
       "</div>"
      ],
      "text/plain": [
       "         host_id host_is_superhost property_type        room_type  \\\n",
       "room_id                                                             \n",
       "958         1169                 t     Apartment  Entire home/apt   \n",
       "3850        4921                 t         House     Private room   \n",
       "5858        8904                 f     Apartment  Entire home/apt   \n",
       "7918       21994                 t     Apartment     Private room   \n",
       "8142       21994                 t     Apartment     Private room   \n",
       "\n",
       "             neighborhood  accommodates  bedrooms  bathrooms  latitude  \\\n",
       "room_id                                                                  \n",
       "958      Western Addition             3       1.0        1.0  37.76931   \n",
       "3850         Inner Sunset             2       1.0        1.0  37.75402   \n",
       "5858       Bernal Heights             5       2.0        1.0  37.74511   \n",
       "7918       Haight Ashbury             2       1.0        4.0  37.76669   \n",
       "8142       Haight Ashbury             2       1.0        4.0  37.76487   \n",
       "\n",
       "         longitude  reviews  price  cleaning_fee  total  \n",
       "room_id                                                  \n",
       "958     -122.43386      217  170.0         100.0  270.0  \n",
       "3850    -122.45805      160   99.0          10.0  109.0  \n",
       "5858    -122.42102      111  235.0         100.0  335.0  \n",
       "7918    -122.45250       18   65.0          50.0  115.0  \n",
       "8142    -122.45183        8   65.0          50.0  115.0  "
      ]
     },
     "execution_count": 45,
     "metadata": {},
     "output_type": "execute_result"
    }
   ],
   "source": [
    "airbnb_EDA_df.head()"
   ]
  },
  {
   "cell_type": "code",
   "execution_count": 48,
   "metadata": {},
   "outputs": [
    {
     "data": {
      "text/plain": [
       "<matplotlib.axes._subplots.AxesSubplot at 0x1b23c30a288>"
      ]
     },
     "execution_count": 48,
     "metadata": {},
     "output_type": "execute_result"
    },
    {
     "data": {
      "image/png": "[encoded data removed]",
      "text/plain": [
       "<Figure size 1440x432 with 1 Axes>"
      ]
     },
     "metadata": {
      "needs_background": "light"
     },
     "output_type": "display_data"
    }
   ],
   "source": [
    "# inspect prices\n",
    "plt.figure(figsize=(20,6))\n",
    "sns.distplot(airbnb_EDA_df[\"total\"])"
   ]
  },
  {
   "cell_type": "code",
   "execution_count": 49,
   "metadata": {},
   "outputs": [
    {
     "data": {
      "text/plain": [
       "<matplotlib.axes._subplots.AxesSubplot at 0x1b23c767bc8>"
      ]
     },
     "execution_count": 49,
     "metadata": {},
     "output_type": "execute_result"
    },
    {
     "data": {
      "image/png": "[encoded data removed]",
      "text/plain": [
       "<Figure size 1440x432 with 1 Axes>"
      ]
     },
     "metadata": {
      "needs_background": "light"
     },
     "output_type": "display_data"
    }
   ],
   "source": [
    "# inspect prices\n",
    "plt.figure(figsize=(20,6))\n",
    "sns.distplot(airbnb_EDA_df[\"total\"].map(np.log))"
   ]
  },
  {
   "cell_type": "markdown",
   "metadata": {},
   "source": [
    "### How does each feature affect total price (price + cleaning_fee)?"
   ]
  },
  {
   "cell_type": "code",
   "execution_count": 60,
   "metadata": {},
   "outputs": [
    {
     "data": {
      "text/plain": [
       "<matplotlib.axes._subplots.AxesSubplot at 0x1b23cb25c08>"
      ]
     },
     "execution_count": 60,
     "metadata": {},
     "output_type": "execute_result"
    },
    {
     "data": {
      "image/png": "[encoded data removed]",
      "text/plain": [
       "<Figure size 1440x576 with 1 Axes>"
      ]
     },
     "metadata": {
      "needs_background": "light"
     },
     "output_type": "display_data"
    }
   ],
   "source": [
    "# price vs property_type\n",
    "airbnb_EDA_df.plot.scatter(x=\"property_type\", y=\"total\", rot=90, figsize=(20,8))"
   ]
  },
  {
   "cell_type": "code",
   "execution_count": 61,
   "metadata": {},
   "outputs": [
    {
     "name": "stderr",
     "output_type": "stream",
     "text": [
      "C:\\Users\\annab\\anaconda3\\envs\\PythonData\\lib\\site-packages\\numpy\\core\\_asarray.py:83: VisibleDeprecationWarning: Creating an ndarray from ragged nested sequences (which is a list-or-tuple of lists-or-tuples-or ndarrays with different lengths or shapes) is deprecated. If you meant to do this, you must specify 'dtype=object' when creating the ndarray\n",
      "  return array(a, dtype, copy=False, order=order)\n"
     ]
    },
    {
     "data": {
      "text/plain": [
       "<matplotlib.axes._subplots.AxesSubplot at 0x1b23c0ee4c8>"
      ]
     },
     "execution_count": 61,
     "metadata": {},
     "output_type": "execute_result"
    },
    {
     "data": {
      "image/png": "[encoded data removed]",
      "text/plain": [
       "<Figure size 1440x720 with 1 Axes>"
      ]
     },
     "metadata": {
      "needs_background": "light"
     },
     "output_type": "display_data"
    }
   ],
   "source": [
    "airbnb_EDA_df.boxplot(column=\"total\", by=\"property_type\", figsize=(20,10), rot=90)"
   ]
  },
  {
   "cell_type": "code",
   "execution_count": 50,
   "metadata": {},
   "outputs": [
    {
     "data": {
      "text/plain": [
       "<matplotlib.axes._subplots.AxesSubplot at 0x1b23c882bc8>"
      ]
     },
     "execution_count": 50,
     "metadata": {},
     "output_type": "execute_result"
    },
    {
     "data": {
      "image/png": "[encoded data removed]",
      "text/plain": [
       "<Figure size 1440x576 with 1 Axes>"
      ]
     },
     "metadata": {
      "needs_background": "light"
     },
     "output_type": "display_data"
    }
   ],
   "source": [
    "# price vs room_type\n",
    "airbnb_EDA_df.plot.scatter(x=\"room_type\", y=\"total\", figsize=(20,8))"
   ]
  },
  {
   "cell_type": "code",
   "execution_count": 51,
   "metadata": {},
   "outputs": [
    {
     "name": "stderr",
     "output_type": "stream",
     "text": [
      "C:\\Users\\annab\\anaconda3\\envs\\PythonData\\lib\\site-packages\\numpy\\core\\_asarray.py:83: VisibleDeprecationWarning: Creating an ndarray from ragged nested sequences (which is a list-or-tuple of lists-or-tuples-or ndarrays with different lengths or shapes) is deprecated. If you meant to do this, you must specify 'dtype=object' when creating the ndarray\n",
      "  return array(a, dtype, copy=False, order=order)\n"
     ]
    },
    {
     "data": {
      "text/plain": [
       "<matplotlib.axes._subplots.AxesSubplot at 0x1b23c8d3a88>"
      ]
     },
     "execution_count": 51,
     "metadata": {},
     "output_type": "execute_result"
    },
    {
     "data": {
      "image/png": "[encoded data removed]",
      "text/plain": [
       "<Figure size 1440x720 with 1 Axes>"
      ]
     },
     "metadata": {
      "needs_background": "light"
     },
     "output_type": "display_data"
    }
   ],
   "source": [
    "airbnb_EDA_df.boxplot(column=\"total\", by=\"room_type\", figsize=(20,10), rot=90)"
   ]
  },
  {
   "cell_type": "code",
   "execution_count": 52,
   "metadata": {},
   "outputs": [
    {
     "data": {
      "text/plain": [
       "<matplotlib.axes._subplots.AxesSubplot at 0x1b23c9ad388>"
      ]
     },
     "execution_count": 52,
     "metadata": {},
     "output_type": "execute_result"
    },
    {
     "data": {
      "image/png": "[encoded data removed]",
      "text/plain": [
       "<Figure size 1800x576 with 1 Axes>"
      ]
     },
     "metadata": {
      "needs_background": "light"
     },
     "output_type": "display_data"
    }
   ],
   "source": [
    "# price vs neighborhood\n",
    "airbnb_EDA_df.plot.scatter(x=\"neighborhood\", y=\"total\", figsize=(25,8), rot=90)"
   ]
  },
  {
   "cell_type": "code",
   "execution_count": 53,
   "metadata": {},
   "outputs": [
    {
     "name": "stderr",
     "output_type": "stream",
     "text": [
      "C:\\Users\\annab\\anaconda3\\envs\\PythonData\\lib\\site-packages\\numpy\\core\\_asarray.py:83: VisibleDeprecationWarning: Creating an ndarray from ragged nested sequences (which is a list-or-tuple of lists-or-tuples-or ndarrays with different lengths or shapes) is deprecated. If you meant to do this, you must specify 'dtype=object' when creating the ndarray\n",
      "  return array(a, dtype, copy=False, order=order)\n"
     ]
    },
    {
     "data": {
      "image/png": "[encoded data removed]",
      "text/plain": [
       "<Figure size 1800x576 with 1 Axes>"
      ]
     },
     "metadata": {
      "needs_background": "light"
     },
     "output_type": "display_data"
    }
   ],
   "source": [
    "airbnb_EDA_df.boxplot(column=\"total\", by=\"neighborhood\", figsize=(25,8), rot=90);"
   ]
  },
  {
   "cell_type": "code",
   "execution_count": 54,
   "metadata": {},
   "outputs": [
    {
     "data": {
      "text/plain": [
       "<matplotlib.axes._subplots.AxesSubplot at 0x1b23db50fc8>"
      ]
     },
     "execution_count": 54,
     "metadata": {},
     "output_type": "execute_result"
    },
    {
     "data": {
      "image/png": "[encoded data removed]",
      "text/plain": [
       "<Figure size 1440x576 with 1 Axes>"
      ]
     },
     "metadata": {
      "needs_background": "light"
     },
     "output_type": "display_data"
    }
   ],
   "source": [
    "# price vs reviews\n",
    "#plt.scatter(airbnb_EDA_df.reviews, airbnb_EDA_df.price)\n",
    "airbnb_EDA_df.plot.scatter(x=\"reviews\", y=\"total\", figsize=(20,8))"
   ]
  },
  {
   "cell_type": "code",
   "execution_count": 56,
   "metadata": {},
   "outputs": [
    {
     "data": {
      "text/plain": [
       "<matplotlib.axes._subplots.AxesSubplot at 0x1b240f78288>"
      ]
     },
     "execution_count": 56,
     "metadata": {},
     "output_type": "execute_result"
    },
    {
     "data": {
      "image/png": "[encoded data removed]",
      "text/plain": [
       "<Figure size 1440x432 with 1 Axes>"
      ]
     },
     "metadata": {
      "needs_background": "light"
     },
     "output_type": "display_data"
    }
   ],
   "source": [
    "# price vs accomodates (number of people)\n",
    "airbnb_EDA_df.plot.scatter(x=\"accommodates\", y=\"total\", figsize=(20,6))"
   ]
  },
  {
   "cell_type": "code",
   "execution_count": 57,
   "metadata": {},
   "outputs": [
    {
     "data": {
      "text/plain": [
       "<matplotlib.axes._subplots.AxesSubplot at 0x1b23dbc8f48>"
      ]
     },
     "execution_count": 57,
     "metadata": {},
     "output_type": "execute_result"
    },
    {
     "data": {
      "image/png": "[encoded data removed]",
      "text/plain": [
       "<Figure size 1440x432 with 1 Axes>"
      ]
     },
     "metadata": {
      "needs_background": "light"
     },
     "output_type": "display_data"
    }
   ],
   "source": [
    "# price vs bedrooms (number of bedrooms)\n",
    "airbnb_EDA_df.plot.scatter(x=\"bedrooms\", y=\"total\", figsize=(20,6))"
   ]
  },
  {
   "cell_type": "code",
   "execution_count": 58,
   "metadata": {},
   "outputs": [
    {
     "data": {
      "text/plain": [
       "<matplotlib.axes._subplots.AxesSubplot at 0x1b2413f3ac8>"
      ]
     },
     "execution_count": 58,
     "metadata": {},
     "output_type": "execute_result"
    },
    {
     "data": {
      "image/png": "[encoded data removed]",
      "text/plain": [
       "<Figure size 1440x432 with 1 Axes>"
      ]
     },
     "metadata": {
      "needs_background": "light"
     },
     "output_type": "display_data"
    }
   ],
   "source": [
    "# price vs bathrooms (number of bathrooms)\n",
    "airbnb_EDA_df.plot.scatter(x=\"bathrooms\", y=\"total\", figsize=(20,6))"
   ]
  },
  {
   "cell_type": "code",
   "execution_count": null,
   "metadata": {},
   "outputs": [],
   "source": []
  }
 ],
 "metadata": {
  "kernelspec": {
   "display_name": "PythonData",
   "language": "python",
   "name": "pythondata"
  },
  "language_info": {
   "codemirror_mode": {
    "name": "ipython",
    "version": 3
   },
   "file_extension": ".py",
   "mimetype": "text/x-python",
   "name": "python",
   "nbconvert_exporter": "python",
   "pygments_lexer": "ipython3",
   "version": "3.7.7"
  }
 },
 "nbformat": 4,
 "nbformat_minor": 4
}
