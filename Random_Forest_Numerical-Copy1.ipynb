{
 "cells": [
  {
   "cell_type": "code",
   "execution_count": 1,
   "metadata": {},
   "outputs": [],
   "source": [
    "import pandas as pd\n",
    "import numpy as np\n",
    "import matplotlib.pyplot as plt\n",
    "import seaborn as sns\n",
    "import matplotlib.style as style\n",
    "\n",
    "from path import Path\n",
    "from sklearn.preprocessing import MinMaxScaler, LabelEncoder, StandardScaler\n",
    "from sklearn.model_selection import train_test_split\n",
    "from sklearn.metrics import r2_score, mean_squared_error, confusion_matrix, classification_report, mean_absolute_error\n",
    "from sklearn.ensemble import RandomForestRegressor, RandomForestClassifier, ExtraTreesClassifier\n",
    "from sklearn.linear_model import LogisticRegression, LinearRegression\n",
    "from sklearn.metrics import accuracy_score, balanced_accuracy_score\n",
    "from sklearn.tree import DecisionTreeRegressor"
   ]
  },
  {
   "cell_type": "code",
   "execution_count": 2,
   "metadata": {},
   "outputs": [
    {
     "data": {
      "text/html": [
       "<div>\n",
       "<style scoped>\n",
       "    .dataframe tbody tr th:only-of-type {\n",
       "        vertical-align: middle;\n",
       "    }\n",
       "\n",
       "    .dataframe tbody tr th {\n",
       "        vertical-align: top;\n",
       "    }\n",
       "\n",
       "    .dataframe thead th {\n",
       "        text-align: right;\n",
       "    }\n",
       "</style>\n",
       "<table border=\"1\" class=\"dataframe\">\n",
       "  <thead>\n",
       "    <tr style=\"text-align: right;\">\n",
       "      <th></th>\n",
       "      <th>host_id</th>\n",
       "      <th>host_is_superhost</th>\n",
       "      <th>property_type</th>\n",
       "      <th>room_type</th>\n",
       "      <th>neighborhood</th>\n",
       "      <th>zipcode</th>\n",
       "      <th>accommodates</th>\n",
       "      <th>bedrooms</th>\n",
       "      <th>bathrooms</th>\n",
       "      <th>minimum_nights</th>\n",
       "      <th>...</th>\n",
       "      <th>latitude</th>\n",
       "      <th>longitude</th>\n",
       "      <th>reviews</th>\n",
       "      <th>review_scores_rating</th>\n",
       "      <th>price</th>\n",
       "      <th>cleaning_fee</th>\n",
       "      <th>total</th>\n",
       "      <th>Median</th>\n",
       "      <th>Mean</th>\n",
       "      <th>Pop</th>\n",
       "    </tr>\n",
       "    <tr>\n",
       "      <th>room_id</th>\n",
       "      <th></th>\n",
       "      <th></th>\n",
       "      <th></th>\n",
       "      <th></th>\n",
       "      <th></th>\n",
       "      <th></th>\n",
       "      <th></th>\n",
       "      <th></th>\n",
       "      <th></th>\n",
       "      <th></th>\n",
       "      <th></th>\n",
       "      <th></th>\n",
       "      <th></th>\n",
       "      <th></th>\n",
       "      <th></th>\n",
       "      <th></th>\n",
       "      <th></th>\n",
       "      <th></th>\n",
       "      <th></th>\n",
       "      <th></th>\n",
       "      <th></th>\n",
       "    </tr>\n",
       "  </thead>\n",
       "  <tbody>\n",
       "    <tr>\n",
       "      <th>958</th>\n",
       "      <td>1169</td>\n",
       "      <td>t</td>\n",
       "      <td>Apartment</td>\n",
       "      <td>Entire home/apt</td>\n",
       "      <td>Western Addition</td>\n",
       "      <td>94117</td>\n",
       "      <td>3</td>\n",
       "      <td>1.0</td>\n",
       "      <td>1.0</td>\n",
       "      <td>1</td>\n",
       "      <td>...</td>\n",
       "      <td>37.76931</td>\n",
       "      <td>-122.43386</td>\n",
       "      <td>217</td>\n",
       "      <td>97.0</td>\n",
       "      <td>170.0</td>\n",
       "      <td>100.0</td>\n",
       "      <td>270.0</td>\n",
       "      <td>84802.0</td>\n",
       "      <td>112291.0</td>\n",
       "      <td>39169.0</td>\n",
       "    </tr>\n",
       "    <tr>\n",
       "      <th>3850</th>\n",
       "      <td>4921</td>\n",
       "      <td>t</td>\n",
       "      <td>House</td>\n",
       "      <td>Private room</td>\n",
       "      <td>Inner Sunset</td>\n",
       "      <td>94131</td>\n",
       "      <td>2</td>\n",
       "      <td>1.0</td>\n",
       "      <td>1.0</td>\n",
       "      <td>1</td>\n",
       "      <td>...</td>\n",
       "      <td>37.75402</td>\n",
       "      <td>-122.45805</td>\n",
       "      <td>160</td>\n",
       "      <td>94.0</td>\n",
       "      <td>99.0</td>\n",
       "      <td>10.0</td>\n",
       "      <td>109.0</td>\n",
       "      <td>97834.0</td>\n",
       "      <td>126303.0</td>\n",
       "      <td>26881.0</td>\n",
       "    </tr>\n",
       "    <tr>\n",
       "      <th>5858</th>\n",
       "      <td>8904</td>\n",
       "      <td>f</td>\n",
       "      <td>Apartment</td>\n",
       "      <td>Entire home/apt</td>\n",
       "      <td>Bernal Heights</td>\n",
       "      <td>94110</td>\n",
       "      <td>5</td>\n",
       "      <td>2.0</td>\n",
       "      <td>1.0</td>\n",
       "      <td>30</td>\n",
       "      <td>...</td>\n",
       "      <td>37.74511</td>\n",
       "      <td>-122.42102</td>\n",
       "      <td>111</td>\n",
       "      <td>98.0</td>\n",
       "      <td>235.0</td>\n",
       "      <td>100.0</td>\n",
       "      <td>335.0</td>\n",
       "      <td>75106.0</td>\n",
       "      <td>98470.0</td>\n",
       "      <td>69333.0</td>\n",
       "    </tr>\n",
       "    <tr>\n",
       "      <th>7918</th>\n",
       "      <td>21994</td>\n",
       "      <td>t</td>\n",
       "      <td>Apartment</td>\n",
       "      <td>Private room</td>\n",
       "      <td>Haight Ashbury</td>\n",
       "      <td>94117</td>\n",
       "      <td>2</td>\n",
       "      <td>1.0</td>\n",
       "      <td>4.0</td>\n",
       "      <td>32</td>\n",
       "      <td>...</td>\n",
       "      <td>37.76669</td>\n",
       "      <td>-122.45250</td>\n",
       "      <td>18</td>\n",
       "      <td>86.0</td>\n",
       "      <td>65.0</td>\n",
       "      <td>50.0</td>\n",
       "      <td>115.0</td>\n",
       "      <td>84802.0</td>\n",
       "      <td>112291.0</td>\n",
       "      <td>39169.0</td>\n",
       "    </tr>\n",
       "    <tr>\n",
       "      <th>8142</th>\n",
       "      <td>21994</td>\n",
       "      <td>t</td>\n",
       "      <td>Apartment</td>\n",
       "      <td>Private room</td>\n",
       "      <td>Haight Ashbury</td>\n",
       "      <td>94117</td>\n",
       "      <td>2</td>\n",
       "      <td>1.0</td>\n",
       "      <td>4.0</td>\n",
       "      <td>32</td>\n",
       "      <td>...</td>\n",
       "      <td>37.76487</td>\n",
       "      <td>-122.45183</td>\n",
       "      <td>8</td>\n",
       "      <td>93.0</td>\n",
       "      <td>65.0</td>\n",
       "      <td>50.0</td>\n",
       "      <td>115.0</td>\n",
       "      <td>84802.0</td>\n",
       "      <td>112291.0</td>\n",
       "      <td>39169.0</td>\n",
       "    </tr>\n",
       "  </tbody>\n",
       "</table>\n",
       "<p>5 rows × 21 columns</p>\n",
       "</div>"
      ],
      "text/plain": [
       "         host_id host_is_superhost property_type        room_type  \\\n",
       "room_id                                                             \n",
       "958         1169                 t     Apartment  Entire home/apt   \n",
       "3850        4921                 t         House     Private room   \n",
       "5858        8904                 f     Apartment  Entire home/apt   \n",
       "7918       21994                 t     Apartment     Private room   \n",
       "8142       21994                 t     Apartment     Private room   \n",
       "\n",
       "             neighborhood  zipcode  accommodates  bedrooms  bathrooms  \\\n",
       "room_id                                                                 \n",
       "958      Western Addition    94117             3       1.0        1.0   \n",
       "3850         Inner Sunset    94131             2       1.0        1.0   \n",
       "5858       Bernal Heights    94110             5       2.0        1.0   \n",
       "7918       Haight Ashbury    94117             2       1.0        4.0   \n",
       "8142       Haight Ashbury    94117             2       1.0        4.0   \n",
       "\n",
       "         minimum_nights  ...  latitude  longitude  reviews  \\\n",
       "room_id                  ...                                 \n",
       "958                   1  ...  37.76931 -122.43386      217   \n",
       "3850                  1  ...  37.75402 -122.45805      160   \n",
       "5858                 30  ...  37.74511 -122.42102      111   \n",
       "7918                 32  ...  37.76669 -122.45250       18   \n",
       "8142                 32  ...  37.76487 -122.45183        8   \n",
       "\n",
       "         review_scores_rating  price  cleaning_fee  total   Median      Mean  \\\n",
       "room_id                                                                        \n",
       "958                      97.0  170.0         100.0  270.0  84802.0  112291.0   \n",
       "3850                     94.0   99.0          10.0  109.0  97834.0  126303.0   \n",
       "5858                     98.0  235.0         100.0  335.0  75106.0   98470.0   \n",
       "7918                     86.0   65.0          50.0  115.0  84802.0  112291.0   \n",
       "8142                     93.0   65.0          50.0  115.0  84802.0  112291.0   \n",
       "\n",
       "             Pop  \n",
       "room_id           \n",
       "958      39169.0  \n",
       "3850     26881.0  \n",
       "5858     69333.0  \n",
       "7918     39169.0  \n",
       "8142     39169.0  \n",
       "\n",
       "[5 rows x 21 columns]"
      ]
     },
     "execution_count": 2,
     "metadata": {},
     "output_type": "execute_result"
    }
   ],
   "source": [
    "# path to dataset\n",
    "file_path = Path(\"/Users/Emily/documents/class_data/final_group_airbnb/Resources/cleaned_airbnb_dataset4.csv\")\n",
    "airbnb_df = pd.read_csv(file_path, index_col=0)\n",
    "airbnb_df.head()"
   ]
  },
  {
   "cell_type": "code",
   "execution_count": 3,
   "metadata": {},
   "outputs": [],
   "source": [
    "# dropping categorical data\n",
    "num_airbnb_df = airbnb_df.drop(['maximum_nights','reviews','cleaning_fee','total','Median','Mean','Pop','host_id','host_is_superhost','property_type','room_type',\n",
    "                                'neighborhood','latitude','longitude','zipcode'], axis=1)"
   ]
  },
  {
   "cell_type": "code",
   "execution_count": 4,
   "metadata": {},
   "outputs": [
    {
     "data": {
      "text/html": [
       "<div>\n",
       "<style scoped>\n",
       "    .dataframe tbody tr th:only-of-type {\n",
       "        vertical-align: middle;\n",
       "    }\n",
       "\n",
       "    .dataframe tbody tr th {\n",
       "        vertical-align: top;\n",
       "    }\n",
       "\n",
       "    .dataframe thead th {\n",
       "        text-align: right;\n",
       "    }\n",
       "</style>\n",
       "<table border=\"1\" class=\"dataframe\">\n",
       "  <thead>\n",
       "    <tr style=\"text-align: right;\">\n",
       "      <th></th>\n",
       "      <th>accommodates</th>\n",
       "      <th>bedrooms</th>\n",
       "      <th>bathrooms</th>\n",
       "      <th>minimum_nights</th>\n",
       "      <th>review_scores_rating</th>\n",
       "      <th>price</th>\n",
       "    </tr>\n",
       "    <tr>\n",
       "      <th>room_id</th>\n",
       "      <th></th>\n",
       "      <th></th>\n",
       "      <th></th>\n",
       "      <th></th>\n",
       "      <th></th>\n",
       "      <th></th>\n",
       "    </tr>\n",
       "  </thead>\n",
       "  <tbody>\n",
       "    <tr>\n",
       "      <th>958</th>\n",
       "      <td>3</td>\n",
       "      <td>1.0</td>\n",
       "      <td>1.0</td>\n",
       "      <td>1</td>\n",
       "      <td>97.0</td>\n",
       "      <td>170.0</td>\n",
       "    </tr>\n",
       "    <tr>\n",
       "      <th>3850</th>\n",
       "      <td>2</td>\n",
       "      <td>1.0</td>\n",
       "      <td>1.0</td>\n",
       "      <td>1</td>\n",
       "      <td>94.0</td>\n",
       "      <td>99.0</td>\n",
       "    </tr>\n",
       "    <tr>\n",
       "      <th>5858</th>\n",
       "      <td>5</td>\n",
       "      <td>2.0</td>\n",
       "      <td>1.0</td>\n",
       "      <td>30</td>\n",
       "      <td>98.0</td>\n",
       "      <td>235.0</td>\n",
       "    </tr>\n",
       "    <tr>\n",
       "      <th>7918</th>\n",
       "      <td>2</td>\n",
       "      <td>1.0</td>\n",
       "      <td>4.0</td>\n",
       "      <td>32</td>\n",
       "      <td>86.0</td>\n",
       "      <td>65.0</td>\n",
       "    </tr>\n",
       "    <tr>\n",
       "      <th>8142</th>\n",
       "      <td>2</td>\n",
       "      <td>1.0</td>\n",
       "      <td>4.0</td>\n",
       "      <td>32</td>\n",
       "      <td>93.0</td>\n",
       "      <td>65.0</td>\n",
       "    </tr>\n",
       "  </tbody>\n",
       "</table>\n",
       "</div>"
      ],
      "text/plain": [
       "         accommodates  bedrooms  bathrooms  minimum_nights  \\\n",
       "room_id                                                      \n",
       "958                 3       1.0        1.0               1   \n",
       "3850                2       1.0        1.0               1   \n",
       "5858                5       2.0        1.0              30   \n",
       "7918                2       1.0        4.0              32   \n",
       "8142                2       1.0        4.0              32   \n",
       "\n",
       "         review_scores_rating  price  \n",
       "room_id                               \n",
       "958                      97.0  170.0  \n",
       "3850                     94.0   99.0  \n",
       "5858                     98.0  235.0  \n",
       "7918                     86.0   65.0  \n",
       "8142                     93.0   65.0  "
      ]
     },
     "execution_count": 4,
     "metadata": {},
     "output_type": "execute_result"
    }
   ],
   "source": [
    "num_airbnb_df.head()"
   ]
  },
  {
   "cell_type": "code",
   "execution_count": null,
   "metadata": {},
   "outputs": [],
   "source": []
  },
  {
   "cell_type": "code",
   "execution_count": 5,
   "metadata": {},
   "outputs": [],
   "source": [
    "#le = LabelEncoder()\n",
    "#num_airbnb_df['accommodates'] = le.fit_transform(num_airbnb_df['accommodates'])\n",
    "#num_airbnb_df['bedrooms'] = le.fit_transform(num_airbnb_df['bedrooms'])\n",
    "#num_airbnb_df['bathrooms'] = le.fit_transform(num_airbnb_df['bathrooms'])\n",
    "#num_airbnb_df['minimum_nights'] = le.fit_transform(num_airbnb_df['minimum_nights'])\n",
    "#num_airbnb_df['review_scores_rating'] = le.fit_transform(num_airbnb_df['review_scores_rating'])\n",
    "#num_airbnb_df['price'] = le.fit_transform(num_airbnb_df['price'])\n"
   ]
  },
  {
   "cell_type": "markdown",
   "metadata": {},
   "source": [
    "Selected Features"
   ]
  },
  {
   "cell_type": "code",
   "execution_count": 6,
   "metadata": {
    "scrolled": true
   },
   "outputs": [
    {
     "data": {
      "text/html": [
       "<div>\n",
       "<style scoped>\n",
       "    .dataframe tbody tr th:only-of-type {\n",
       "        vertical-align: middle;\n",
       "    }\n",
       "\n",
       "    .dataframe tbody tr th {\n",
       "        vertical-align: top;\n",
       "    }\n",
       "\n",
       "    .dataframe thead th {\n",
       "        text-align: right;\n",
       "    }\n",
       "</style>\n",
       "<table border=\"1\" class=\"dataframe\">\n",
       "  <thead>\n",
       "    <tr style=\"text-align: right;\">\n",
       "      <th></th>\n",
       "      <th>accommodates</th>\n",
       "      <th>bedrooms</th>\n",
       "      <th>bathrooms</th>\n",
       "      <th>minimum_nights</th>\n",
       "      <th>review_scores_rating</th>\n",
       "    </tr>\n",
       "    <tr>\n",
       "      <th>room_id</th>\n",
       "      <th></th>\n",
       "      <th></th>\n",
       "      <th></th>\n",
       "      <th></th>\n",
       "      <th></th>\n",
       "    </tr>\n",
       "  </thead>\n",
       "  <tbody>\n",
       "    <tr>\n",
       "      <th>958</th>\n",
       "      <td>3</td>\n",
       "      <td>1.0</td>\n",
       "      <td>1.0</td>\n",
       "      <td>1</td>\n",
       "      <td>97.0</td>\n",
       "    </tr>\n",
       "    <tr>\n",
       "      <th>3850</th>\n",
       "      <td>2</td>\n",
       "      <td>1.0</td>\n",
       "      <td>1.0</td>\n",
       "      <td>1</td>\n",
       "      <td>94.0</td>\n",
       "    </tr>\n",
       "    <tr>\n",
       "      <th>5858</th>\n",
       "      <td>5</td>\n",
       "      <td>2.0</td>\n",
       "      <td>1.0</td>\n",
       "      <td>30</td>\n",
       "      <td>98.0</td>\n",
       "    </tr>\n",
       "    <tr>\n",
       "      <th>7918</th>\n",
       "      <td>2</td>\n",
       "      <td>1.0</td>\n",
       "      <td>4.0</td>\n",
       "      <td>32</td>\n",
       "      <td>86.0</td>\n",
       "    </tr>\n",
       "    <tr>\n",
       "      <th>8142</th>\n",
       "      <td>2</td>\n",
       "      <td>1.0</td>\n",
       "      <td>4.0</td>\n",
       "      <td>32</td>\n",
       "      <td>93.0</td>\n",
       "    </tr>\n",
       "  </tbody>\n",
       "</table>\n",
       "</div>"
      ],
      "text/plain": [
       "         accommodates  bedrooms  bathrooms  minimum_nights  \\\n",
       "room_id                                                      \n",
       "958                 3       1.0        1.0               1   \n",
       "3850                2       1.0        1.0               1   \n",
       "5858                5       2.0        1.0              30   \n",
       "7918                2       1.0        4.0              32   \n",
       "8142                2       1.0        4.0              32   \n",
       "\n",
       "         review_scores_rating  \n",
       "room_id                        \n",
       "958                      97.0  \n",
       "3850                     94.0  \n",
       "5858                     98.0  \n",
       "7918                     86.0  \n",
       "8142                     93.0  "
      ]
     },
     "execution_count": 6,
     "metadata": {},
     "output_type": "execute_result"
    }
   ],
   "source": [
    "feat2 = ['accommodates','bedrooms','bathrooms','minimum_nights','review_scores_rating']\n",
    "X = num_airbnb_df[feat2]\n",
    "Y = num_airbnb_df.price\n",
    "X.head()"
   ]
  },
  {
   "cell_type": "code",
   "execution_count": 7,
   "metadata": {},
   "outputs": [],
   "source": [
    "X_train, X_pred, Y_train, Y_pred = train_test_split(X, Y, random_state = 42)"
   ]
  },
  {
   "cell_type": "code",
   "execution_count": 8,
   "metadata": {},
   "outputs": [],
   "source": [
    "# standard scaler\n",
    "scaler = StandardScaler()\n",
    "X_scaler = scaler.fit(X_train)\n",
    "\n",
    "#print(scaler.fit(data))"
   ]
  },
  {
   "cell_type": "code",
   "execution_count": 9,
   "metadata": {},
   "outputs": [],
   "source": [
    "#X_train_scaled = X_scaler.transform(X_train)\n",
    "#X_pred_scaled = X_scaler.transform(X_pred)"
   ]
  },
  {
   "cell_type": "code",
   "execution_count": 10,
   "metadata": {},
   "outputs": [
    {
     "name": "stdout",
     "output_type": "stream",
     "text": [
      "Training set: X train:(5861, 5) Y train:(5861,)\n",
      "Prediction set: X pred:(1954, 5) Y pred:(1954,)\n",
      "Full dataset: X:(7815, 5) Y:(7815,)\n"
     ]
    }
   ],
   "source": [
    "print(\"Training set: X train:{} Y train:{}\".format(X_train.shape, Y_train.shape))\n",
    "print(\"Prediction set: X pred:{} Y pred:{}\".format(X_pred.shape, Y_pred.shape))\n",
    "print(\"Full dataset: X:{} Y:{}\".format(X.shape, Y.shape))"
   ]
  },
  {
   "cell_type": "code",
   "execution_count": 12,
   "metadata": {},
   "outputs": [
    {
     "data": {
      "text/plain": [
       "DecisionTreeRegressor(random_state=42)"
      ]
     },
     "execution_count": 12,
     "metadata": {},
     "output_type": "execute_result"
    }
   ],
   "source": [
    "num_airbnb_df = DecisionTreeRegressor(random_state = 42)\n",
    "num_airbnb_df.fit(X_train, Y_train)"
   ]
  },
  {
   "cell_type": "code",
   "execution_count": 13,
   "metadata": {},
   "outputs": [
    {
     "name": "stdout",
     "output_type": "stream",
     "text": [
      "          accommodates  bedrooms  bathrooms  minimum_nights  \\\n",
      "room_id                                                       \n",
      "13284332             4       0.0        1.0               1   \n",
      "38699317             3       1.0        1.0              30   \n",
      "10574350             2       1.0        1.0               2   \n",
      "16535678             2       1.0        1.0               2   \n",
      "19123620             7       3.0        2.0               2   \n",
      "...                ...       ...        ...             ...   \n",
      "6973383              1       1.0        2.0               5   \n",
      "18331809             6       2.0        2.0              30   \n",
      "32385434             4       1.0        3.0              30   \n",
      "8993307              4       0.0        1.0               2   \n",
      "1141986              4       1.0        1.0             360   \n",
      "\n",
      "          review_scores_rating  \n",
      "room_id                         \n",
      "13284332                  98.0  \n",
      "38699317                   0.0  \n",
      "10574350                  96.0  \n",
      "16535678                  99.0  \n",
      "19123620                  94.0  \n",
      "...                        ...  \n",
      "6973383                   99.0  \n",
      "18331809                 100.0  \n",
      "32385434                  60.0  \n",
      "8993307                   90.0  \n",
      "1141986                   84.0  \n",
      "\n",
      "[1954 rows x 5 columns]\n"
     ]
    }
   ],
   "source": [
    "print(X_pred)"
   ]
  },
  {
   "cell_type": "code",
   "execution_count": 14,
   "metadata": {},
   "outputs": [
    {
     "name": "stdout",
     "output_type": "stream",
     "text": [
      "[219.26666667 185.16981132 136.46153846 ...  32.         175.\n",
      " 175.        ]\n"
     ]
    }
   ],
   "source": [
    "print(num_airbnb_df.predict(X_pred))"
   ]
  },
  {
   "cell_type": "code",
   "execution_count": null,
   "metadata": {},
   "outputs": [],
   "source": []
  },
  {
   "cell_type": "markdown",
   "metadata": {},
   "source": [
    "Random Forest"
   ]
  },
  {
   "cell_type": "code",
   "execution_count": 15,
   "metadata": {},
   "outputs": [
    {
     "data": {
      "text/plain": [
       "RandomForestRegressor(max_depth=20, n_estimators=250, random_state=42)"
      ]
     },
     "execution_count": 15,
     "metadata": {},
     "output_type": "execute_result"
    }
   ],
   "source": [
    "#encode_X_train = X_train.copy()\n",
    "#encode_X_pred = X_pred.copy()\n",
    "\n",
    "rf_airbnb_model = RandomForestRegressor(n_estimators = 250, random_state = 42, max_depth = 20, criterion = 'mse', \n",
    "                                        min_samples_split = 2)\n",
    "rf_airbnb_model.fit(X_train, Y_train)"
   ]
  },
  {
   "cell_type": "code",
   "execution_count": 16,
   "metadata": {},
   "outputs": [
    {
     "data": {
      "text/plain": [
       "117.9431949547896"
      ]
     },
     "execution_count": 16,
     "metadata": {},
     "output_type": "execute_result"
    }
   ],
   "source": [
    "predict_total = rf_airbnb_model.predict(X_pred)\n",
    "mean_absolute_error(Y_pred, predict_total)"
   ]
  },
  {
   "cell_type": "code",
   "execution_count": 17,
   "metadata": {},
   "outputs": [
    {
     "data": {
      "text/plain": [
       "446.14874889472827"
      ]
     },
     "execution_count": 17,
     "metadata": {},
     "output_type": "execute_result"
    }
   ],
   "source": [
    "mean_squared_error(Y_pred, predict_total, squared=False)"
   ]
  },
  {
   "cell_type": "code",
   "execution_count": 18,
   "metadata": {},
   "outputs": [
    {
     "data": {
      "text/plain": [
       "199048.70614033128"
      ]
     },
     "execution_count": 18,
     "metadata": {},
     "output_type": "execute_result"
    }
   ],
   "source": [
    "mean_squared_error(Y_pred, predict_total)"
   ]
  },
  {
   "cell_type": "code",
   "execution_count": 19,
   "metadata": {},
   "outputs": [
    {
     "name": "stdout",
     "output_type": "stream",
     "text": [
      "R2: 0.29483273131234966\n"
     ]
    }
   ],
   "source": [
    "print(f'R2: {rf_airbnb_model.score(X, Y)}')"
   ]
  },
  {
   "cell_type": "markdown",
   "metadata": {},
   "source": [
    "Correlation Matrix"
   ]
  },
  {
   "cell_type": "code",
   "execution_count": null,
   "metadata": {},
   "outputs": [],
   "source": [
    "file_path = Path(\"/Users/Emily/documents/class_data/final_group_airbnb/Resources/listings.csv\")\n",
    "original_df = pd.read_csv(file_path, index_col=0)\n",
    "original_df.head()"
   ]
  },
  {
   "cell_type": "code",
   "execution_count": null,
   "metadata": {},
   "outputs": [],
   "source": [
    "# heatmap\n",
    "cmx2 = original_df.corr()\n",
    "cmx2 = abs(cmx2)\n",
    "f, ax = plt.subplots(figsize=(20, 9))\n",
    "sns.heatmap(cmx2, vmax=0.8, vmin=0.05, annot=True)"
   ]
  },
  {
   "cell_type": "code",
   "execution_count": null,
   "metadata": {},
   "outputs": [],
   "source": [
    "# heatmap\n",
    "cmx = airbnb_df.corr()\n",
    "cmx = abs(cmx)\n",
    "f, ax = plt.subplots(figsize=(20, 9))\n",
    "sns.heatmap(cmx, vmax=0.8, vmin=0.05, annot=True)"
   ]
  },
  {
   "cell_type": "code",
   "execution_count": null,
   "metadata": {},
   "outputs": [],
   "source": []
  }
 ],
 "metadata": {
  "kernelspec": {
   "display_name": "Python 3",
   "language": "python",
   "name": "python3"
  },
  "language_info": {
   "codemirror_mode": {
    "name": "ipython",
    "version": 3
   },
   "file_extension": ".py",
   "mimetype": "text/x-python",
   "name": "python",
   "nbconvert_exporter": "python",
   "pygments_lexer": "ipython3",
   "version": "3.7.7"
  }
 },
 "nbformat": 4,
 "nbformat_minor": 4
}
